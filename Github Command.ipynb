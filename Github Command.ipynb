{
 "cells": [
  {
   "cell_type": "markdown",
   "metadata": {},
   "source": [
    "# Github push command"
   ]
  },
  {
   "cell_type": "markdown",
   "metadata": {},
   "source": [
    "## 1. create repostory on Github\n",
    "## 2. clone with SSH (copy address)"
   ]
  },
  {
   "cell_type": "markdown",
   "metadata": {},
   "source": [
    "   ###     *   in terminal"
   ]
  },
  {
   "cell_type": "raw",
   "metadata": {},
   "source": [
    "mkdir ~/Desktop/foldername"
   ]
  },
  {
   "cell_type": "raw",
   "metadata": {},
   "source": [
    "cd ~/Desktop/foldername"
   ]
  },
  {
   "cell_type": "raw",
   "metadata": {},
   "source": [
    "git clone <repository_URL>       # in this case the repository will be a folder under \"filename\""
   ]
  },
  {
   "cell_type": "markdown",
   "metadata": {},
   "source": [
    "## 3. create colding file (on terminal)"
   ]
  },
  {
   "cell_type": "markdown",
   "metadata": {},
   "source": [
    "###     Sublime editor"
   ]
  },
  {
   "cell_type": "raw",
   "metadata": {},
   "source": [
    "sublime            "
   ]
  },
  {
   "cell_type": "markdown",
   "metadata": {},
   "source": [
    "### Emac editor"
   ]
  },
  {
   "cell_type": "raw",
   "metadata": {},
   "source": [
    "emacs pythonfilename.py         # create an empty pythonfile"
   ]
  },
  {
   "cell_type": "raw",
   "metadata": {},
   "source": [
    "                                # to save the change in file, press Ctl + x + s"
   ]
  },
  {
   "cell_type": "raw",
   "metadata": {},
   "source": [
    "                                # to exit the editor, press Ctl + x + c"
   ]
  },
  {
   "cell_type": "markdown",
   "metadata": {},
   "source": [
    "###  vim editor"
   ]
  },
  {
   "cell_type": "raw",
   "metadata": {},
   "source": [
    "touch pythonfile.py             # create an empty pythonfile"
   ]
  },
  {
   "cell_type": "raw",
   "metadata": {},
   "source": [
    "                                # to save the change in file, press :x"
   ]
  },
  {
   "cell_type": "raw",
   "metadata": {},
   "source": [
    "                                # to exit the editor, press :q"
   ]
  },
  {
   "cell_type": "markdown",
   "metadata": {},
   "source": [
    "## 4. push and commit to github repository"
   ]
  },
  {
   "cell_type": "markdown",
   "metadata": {},
   "source": [
    "there are three steps to submit a new version of project repository on Github\n",
    "* check status (for changes)\n",
    "* add new files to the queue\n",
    "* commit the change to the remote repository"
   ]
  },
  {
   "cell_type": "raw",
   "metadata": {},
   "source": [
    "git status"
   ]
  },
  {
   "cell_type": "raw",
   "metadata": {},
   "source": [
    "git add pythonfile.py"
   ]
  },
  {
   "cell_type": "raw",
   "metadata": {},
   "source": [
    "git commit -m <add your comment to this new version>             # e.g. added github comments documentary"
   ]
  },
  {
   "cell_type": "raw",
   "metadata": {},
   "source": [
    "git push"
   ]
  },
  {
   "cell_type": "markdown",
   "metadata": {},
   "source": [
    "### now the updated files should show up on github!!"
   ]
  }
 ],
 "metadata": {
  "kernelspec": {
   "display_name": "Python 3",
   "language": "python",
   "name": "python3"
  },
  "language_info": {
   "codemirror_mode": {
    "name": "ipython",
    "version": 3
   },
   "file_extension": ".py",
   "mimetype": "text/x-python",
   "name": "python",
   "nbconvert_exporter": "python",
   "pygments_lexer": "ipython3",
   "version": "3.7.2"
  }
 },
 "nbformat": 4,
 "nbformat_minor": 2
}
