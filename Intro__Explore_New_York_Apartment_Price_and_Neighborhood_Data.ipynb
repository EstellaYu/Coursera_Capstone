{
 "cells": [
  {
   "cell_type": "markdown",
   "metadata": {},
   "source": [
    "# IBM Data Science Professional Specialization - Coursera"
   ]
  },
  {
   "cell_type": "markdown",
   "metadata": {},
   "source": [
    "This notebook is for the capstone project, fulfilling the requirement for the __[IBM Data Science Professional Specialization](https://www.coursera.org/specializations/ibm-data-science-professional-certificate)__. \n",
    "\n",
    "\n",
    "In this analysis, the following content will be listed \n",
    "- Web scraping: obtain apartment rental price by neighbourhood\n",
    "- Data wrangling: clean up the data using python pandas \n",
    "- Data analyze:\n",
    "  - obtain more neighbourhood venue data using Four Square data base, \n",
    "  - explore the data set in pandas, matplotlib, etc \n",
    "  - perform rental price prediction using machine learning skills  \n",
    "  \n",
    "  \n",
    "  \n",
    "### Author: Estella Yu ###\n",
    "email: estellayyu@gmail.com || \n",
    "LinkedIn: __[Yingxian Estella Yu](https://www.linkedin.com/in/estella-yingxian-y-65b3b883/)__\n",
    "\n",
    "\n",
    "\n",
    "keyword:  *`web scraping`*, *`data wrangling`*, *`python`*, *`pandas`*, *`folium`*, *`Four Square`*\n"
   ]
  },
  {
   "cell_type": "markdown",
   "metadata": {},
   "source": [
    "# I. Introduction \n",
    "\n",
    "### 1. Background\n",
    "\n",
    "New York is such a unique place full of attractions from the financial capital, fashion trends, artistic and historic atmosphere, that words just simply can't describe enough. The only way to know the life in New York is simply to experience it. Yet, city life comes with a lot of dollar signs _--$$--_  especially in Manhattan. According to the recent National Rent Report (__[Feb 2019](https://www.zumper.com/blog/2019/01/zumper-national-rent-report-february-2019/)__), the rental price in New York for a 1 Bedroom apartment ( **$2,780** ) is ranking 2nd across the nation, right behind the crazy San Fransisco. What's more, based on the data shown in  __[businessinsider](https://www.businessinsider.com/manhattan-rent-by-neighborhood-ranked-from-lowest-to-highest-2018-5)__, the asking rent has drastically increased by **33%** in the window from Dec 2009 to July 2017 (in less than 9 years)!\n",
    "\n",
    "Therefore, it's of special significance to analyze and understand the housing trend in New York. With some simple search, one can easily spot that the housing price in New York is highly correlated with its location. For example, the rent near Soho (average `$5,000 - $6,000+`) is higher than the Manhattan average by 52%, and is certainly more pricy than the rent near East Harlem (average `$2,000 - $3,000+`). \n",
    "\n",
    "So to what extend can we predict the rent in Manhattan based on the neighboring venue, an important component that contributes to the vibes in the neighborhood? Is it easier to spot an Italian restaurant than a pizza store at the pricy neighborhood? How much does a school, a mall, a supermarket potentially contribute to the housing price? We are going to figure it out in this report!\n",
    "\n",
    "### 2. Project Description\n",
    "\n",
    "Using data to analyze the following questions: \n",
    " - *`Why`* do we want to analyze the housing price in __New York__?\n",
    " - *`How`* is the apartment rental price vary by __neighborhood__?\n",
    " - If you are planning to move to a new neighborhood, *`what`* typical __venues__ will you be looking for? \n",
    " - Do the popular venue & higher end apartment price align?\n",
    "\n",
    "### 3. potential terget reader\n",
    "The results and analysis enclosed in this project can be closely relevant to: \n",
    " - People related to rental activities in New York (landloard, tenant, real estate agent, ect)\n",
    " - Bussiness personal: if one plans to open a new bussiness in a certain neighborhood, which neighborhoods are more appropriate, and do the target neighborhoods have relevant venue already? \n",
    " - or Anyone who's courious about data (like us! :))"
   ]
  },
  {
   "cell_type": "markdown",
   "metadata": {},
   "source": [
    "# II. Data Description \n",
    "### 1. Data Source:\n",
    "- __[Zumper](https://www.zumper.com/blog/2019/01/zumper-national-rent-report-february-2019/)__: National Rent Report: February 2019\n",
    "- __[Rentcafe](https://www.rentcafe.com/average-rent-market-trends/us/ny/manhattan/)__: Manhattan, NY Rental Market Trends\n",
    "- __[School locations in Manhattan](http://www.lat-long.com/Search.cfm?q=+school&State=NY&County=New+York&FeatureType=school)__\n",
    "- __[Four Square API](https://developer.foursquare.com/)__: venue data around each neighbourhood\n",
    "\n",
    "### 2. Data Collection:\n",
    " 1. Data from National Rent Report and Manhattan rent market trend will be scraped fromthe web\n",
    " 2. For each neighborhood, it's lattitude and longitude information will be collected using Geocoder\n",
    " 3. For each neighborhood, call Four Square API to obtain sourounding detailed venue data\n",
    " \n",
    "### 3. Use data to solve the problem:\n",
    "1. Visualize the national rent price across nation (Matplotlib, bubble plot)\n",
    "2. Cluster the neighborhood based on rental price, closeby venues, etc.\n",
    "3. Plot rental price v.s. popular venue across all neighborhood, and explore correlations\n",
    "4. Analyze a special venue -- Schools. Investigate how does distance to each school potentially contribute to the housing price\n",
    " \n"
   ]
  },
  {
   "cell_type": "code",
   "execution_count": null,
   "metadata": {},
   "outputs": [],
   "source": []
  }
 ],
 "metadata": {
  "kernelspec": {
   "display_name": "Python 3",
   "language": "python",
   "name": "python3"
  },
  "language_info": {
   "codemirror_mode": {
    "name": "ipython",
    "version": 3
   },
   "file_extension": ".py",
   "mimetype": "text/x-python",
   "name": "python",
   "nbconvert_exporter": "python",
   "pygments_lexer": "ipython3",
   "version": "3.7.1"
  }
 },
 "nbformat": 4,
 "nbformat_minor": 2
}
