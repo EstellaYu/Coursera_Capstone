{
 "cells": [
  {
   "cell_type": "markdown",
   "metadata": {},
   "source": [
    "# Zillow API tries"
   ]
  },
  {
   "cell_type": "code",
   "execution_count": 72,
   "metadata": {},
   "outputs": [],
   "source": [
    "import pyzillow\n",
    "from pyzillow.pyzillow import ZillowWrapper, GetDeepSearchResults, GetUpdatedPropertyDetails, ZillowError"
   ]
  },
  {
   "cell_type": "code",
   "execution_count": 9,
   "metadata": {},
   "outputs": [],
   "source": [
    "zid = \"X1-ZWz17z8pueybkb_3mmvk\"\n",
    "zillow_data = ZillowWrapper(zid)"
   ]
  },
  {
   "cell_type": "code",
   "execution_count": 110,
   "metadata": {},
   "outputs": [],
   "source": [
    "address = \"Nassau St\"\n",
    "cityStateZip = \"Princeton\"\n",
    "zipcode = \"08540\""
   ]
  },
  {
   "cell_type": "code",
   "execution_count": 112,
   "metadata": {},
   "outputs": [],
   "source": [
    "def getprice(address, zipcode, zid):\n",
    "\n",
    "    zildat = ZillowWrapper(zid)\n",
    "    try:\n",
    "        deep_search_response = zildat.get_deep_search_results(address, zipcode)\n",
    "    except ZillowError as e:\n",
    "        message = e.message['text']\n",
    "        code = e.message['code']\n",
    "        print(\"Error: {code} - {message}\".format(code=code, message=message))\n",
    "        return 0\n",
    "\n",
    "    result = GetDeepSearchResults(deep_search_response)\n",
    "    price = result.bedrooms\n",
    "    return price"
   ]
  },
  {
   "cell_type": "code",
   "execution_count": 113,
   "metadata": {},
   "outputs": [
    {
     "data": {
      "text/plain": [
       "'3'"
      ]
     },
     "execution_count": 113,
     "metadata": {},
     "output_type": "execute_result"
    }
   ],
   "source": [
    "getprice(address,zipcode, zid)"
   ]
  },
  {
   "cell_type": "code",
   "execution_count": null,
   "metadata": {},
   "outputs": [],
   "source": []
  },
  {
   "cell_type": "code",
   "execution_count": null,
   "metadata": {},
   "outputs": [],
   "source": []
  }
 ],
 "metadata": {
  "kernelspec": {
   "display_name": "Python 3",
   "language": "python",
   "name": "python3"
  },
  "language_info": {
   "codemirror_mode": {
    "name": "ipython",
    "version": 3
   },
   "file_extension": ".py",
   "mimetype": "text/x-python",
   "name": "python",
   "nbconvert_exporter": "python",
   "pygments_lexer": "ipython3",
   "version": "3.7.1"
  }
 },
 "nbformat": 4,
 "nbformat_minor": 2
}
