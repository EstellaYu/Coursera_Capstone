{
 "cells": [
  {
   "cell_type": "code",
   "execution_count": 1,
   "metadata": {},
   "outputs": [
    {
     "name": "stdout",
     "output_type": "stream",
     "text": [
      "Folium installed\n",
      "Libraries imported.\n"
     ]
    }
   ],
   "source": [
    "import requests # library to handle requests\n",
    "import pandas as pd # library for data analsysis\n",
    "import numpy as np # library to handle data in a vectorized manner\n",
    "import random # library for random number generation\n",
    "\n",
    "# libraries for displaying images\n",
    "from IPython.display import Image \n",
    "from IPython.core.display import HTML \n",
    "    \n",
    "# tranforming json file into a pandas dataframe library\n",
    "from pandas.io.json import json_normalize\n",
    "\n",
    "#!conda install -c conda-forge geopy --yes  # if haven't installed \"geopy\" yet\n",
    "from geopy.geocoders import Nominatim # module to convert an address into latitude and longitude values\n",
    "#!conda install -c conda-forge folium=0.5.0 --yes  # if haven't installed \"follium\" yet\n",
    "import folium # plotting library\n",
    "\n",
    "import datetime\n",
    "now = datetime.datetime.now()\n",
    "date = \"%4d%02d%02d\" % (now.year, now.month, now.day)\n",
    "\n",
    "print('Folium installed')\n",
    "print('Libraries imported.')"
   ]
  },
  {
   "cell_type": "code",
   "execution_count": 2,
   "metadata": {},
   "outputs": [],
   "source": [
    "CLIENT_ID = \"RITE5DZBWPGXJKX5S5A2L03WXIAXZOIDDAACBCWIGXO4XAEQ\"\n",
    "CLIENT_SECRET = \"HGGFICSXSLIIPMB0QTLVGXVBO3NFMIRKCQFT4PSJDNEJWGOF\"\n",
    "VERSION = date # today's date\n",
    "limit = 30"
   ]
  },
  {
   "cell_type": "markdown",
   "metadata": {},
   "source": [
    "In order to convert the *address* to a *(lat, lon)* corrdinate, an agent is needed.\n",
    "Here we call it \"foursquareAPI_agent\""
   ]
  },
  {
   "cell_type": "code",
   "execution_count": 3,
   "metadata": {},
   "outputs": [
    {
     "name": "stdout",
     "output_type": "stream",
     "text": [
      "40.7149555 -74.0153365\n"
     ]
    }
   ],
   "source": [
    "address = \"102 North End Ave, New York, NY\"\n",
    "address_nickname = 'Conard Hotel'\n",
    "\n",
    "geolocator = Nominatim(user_agent = \"foursquareAPI_agent\") \n",
    "location = geolocator.geocode(address)\n",
    "latitude = location.latitude\n",
    "longitude = location.longitude\n",
    "\n",
    "print(latitude, longitude)"
   ]
  },
  {
   "cell_type": "markdown",
   "metadata": {},
   "source": [
    "# 1. search for venue in category\n",
    "> `https://api.foursquare.com/v2/venues/`**search**`?`\n",
    "> `client_id=`**CLIENT_ID**`&client_secrete=`**CLIENT_SECRETE**`&v=`**VERSION**\n",
    "> `&ll=`**LATITUDE`,`LONGITUDE**`&query=`**QUERY**`&radius=`**RADIUS**`&limit=`**LIMIT**"
   ]
  },
  {
   "cell_type": "code",
   "execution_count": 4,
   "metadata": {},
   "outputs": [],
   "source": [
    "search_query = \"Italian\"\n",
    "radius = 500 # search within 500m radius"
   ]
  },
  {
   "cell_type": "markdown",
   "metadata": {},
   "source": [
    "### define the query url"
   ]
  },
  {
   "cell_type": "code",
   "execution_count": 5,
   "metadata": {},
   "outputs": [
    {
     "data": {
      "text/plain": [
       "'https://api.foursquare.com/v2/venues/search?client_id=RITE5DZBWPGXJKX5S5A2L03WXIAXZOIDDAACBCWIGXO4XAEQ&client_secret=HGGFICSXSLIIPMB0QTLVGXVBO3NFMIRKCQFT4PSJDNEJWGOF&ll=40.7149555,-74.0153365&v=20190321&query=Italian&radius=500&limit=30'"
      ]
     },
     "execution_count": 5,
     "metadata": {},
     "output_type": "execute_result"
    }
   ],
   "source": [
    "url = 'https://api.foursquare.com/v2/venues/search?client_id={}&client_secret={}&ll={},{}&v={}&query={}&radius={}&limit={}'.format(CLIENT_ID, CLIENT_SECRET, latitude, longitude,VERSION, search_query, radius, limit)\n",
    "url"
   ]
  },
  {
   "cell_type": "markdown",
   "metadata": {},
   "source": [
    "### send the GET request and examine the result"
   ]
  },
  {
   "cell_type": "code",
   "execution_count": 6,
   "metadata": {
    "collapsed": true
   },
   "outputs": [
    {
     "data": {
      "text/plain": [
       "{'meta': {'code': 200, 'requestId': '5c93f1be4c1f6729379bc203'},\n",
       " 'response': {'venues': [{'id': '4fa862b3e4b0ebff2f749f06',\n",
       "    'name': \"Harry's Italian Pizza Bar\",\n",
       "    'location': {'address': '225 Murray St',\n",
       "     'lat': 40.71521779064671,\n",
       "     'lng': -74.01473940209351,\n",
       "     'labeledLatLngs': [{'label': 'display',\n",
       "       'lat': 40.71521779064671,\n",
       "       'lng': -74.01473940209351}],\n",
       "     'distance': 58,\n",
       "     'postalCode': '10282',\n",
       "     'cc': 'US',\n",
       "     'city': 'New York',\n",
       "     'state': 'NY',\n",
       "     'country': 'United States',\n",
       "     'formattedAddress': ['225 Murray St',\n",
       "      'New York, NY 10282',\n",
       "      'United States']},\n",
       "    'categories': [{'id': '4bf58dd8d48988d1ca941735',\n",
       "      'name': 'Pizza Place',\n",
       "      'pluralName': 'Pizza Places',\n",
       "      'shortName': 'Pizza',\n",
       "      'icon': {'prefix': 'https://ss3.4sqi.net/img/categories_v2/food/pizza_',\n",
       "       'suffix': '.png'},\n",
       "      'primary': True}],\n",
       "    'delivery': {'id': '294544',\n",
       "     'url': 'https://www.seamless.com/menu/harrys-italian-pizza-bar-225-murray-st-new-york/294544?affiliate=1131&utm_source=foursquare-affiliate-network&utm_medium=affiliate&utm_campaign=1131&utm_content=294544',\n",
       "     'provider': {'name': 'seamless',\n",
       "      'icon': {'prefix': 'https://fastly.4sqi.net/img/general/cap/',\n",
       "       'sizes': [40, 50],\n",
       "       'name': '/delivery_provider_seamless_20180129.png'}}},\n",
       "    'referralId': 'v-1553199550',\n",
       "    'hasPerk': False},\n",
       "   {'id': '4f3232e219836c91c7bfde94',\n",
       "    'name': 'Conca Cucina Italian Restaurant',\n",
       "    'location': {'address': '63 W Broadway',\n",
       "     'lat': 40.71446,\n",
       "     'lng': -74.010086,\n",
       "     'labeledLatLngs': [{'label': 'display',\n",
       "       'lat': 40.71446,\n",
       "       'lng': -74.010086}],\n",
       "     'distance': 446,\n",
       "     'postalCode': '10007',\n",
       "     'cc': 'US',\n",
       "     'city': 'New York',\n",
       "     'state': 'NY',\n",
       "     'country': 'United States',\n",
       "     'formattedAddress': ['63 W Broadway',\n",
       "      'New York, NY 10007',\n",
       "      'United States']},\n",
       "    'categories': [{'id': '4d4b7105d754a06374d81259',\n",
       "      'name': 'Food',\n",
       "      'pluralName': 'Food',\n",
       "      'shortName': 'Food',\n",
       "      'icon': {'prefix': 'https://ss3.4sqi.net/img/categories_v2/food/default_',\n",
       "       'suffix': '.png'},\n",
       "      'primary': True}],\n",
       "    'referralId': 'v-1553199550',\n",
       "    'hasPerk': False},\n",
       "   {'id': '3fd66200f964a520f4e41ee3',\n",
       "    'name': 'Ecco',\n",
       "    'location': {'address': '124 Chambers St',\n",
       "     'crossStreet': 'btwn Church St & W Broadway',\n",
       "     'lat': 40.71533713859952,\n",
       "     'lng': -74.00884766217825,\n",
       "     'labeledLatLngs': [{'label': 'display',\n",
       "       'lat': 40.71533713859952,\n",
       "       'lng': -74.00884766217825}],\n",
       "     'distance': 549,\n",
       "     'postalCode': '10007',\n",
       "     'cc': 'US',\n",
       "     'city': 'New York',\n",
       "     'state': 'NY',\n",
       "     'country': 'United States',\n",
       "     'formattedAddress': ['124 Chambers St (btwn Church St & W Broadway)',\n",
       "      'New York, NY 10007',\n",
       "      'United States']},\n",
       "    'categories': [{'id': '4bf58dd8d48988d110941735',\n",
       "      'name': 'Italian Restaurant',\n",
       "      'pluralName': 'Italian Restaurants',\n",
       "      'shortName': 'Italian',\n",
       "      'icon': {'prefix': 'https://ss3.4sqi.net/img/categories_v2/food/italian_',\n",
       "       'suffix': '.png'},\n",
       "      'primary': True}],\n",
       "    'referralId': 'v-1553199550',\n",
       "    'hasPerk': False}]}}"
      ]
     },
     "execution_count": 6,
     "metadata": {},
     "output_type": "execute_result"
    }
   ],
   "source": [
    "results = requests.get(url).json()\n",
    "results"
   ]
  },
  {
   "cell_type": "markdown",
   "metadata": {},
   "source": [
    "### transform the result into pandas dataframe"
   ]
  },
  {
   "cell_type": "code",
   "execution_count": 7,
   "metadata": {
    "collapsed": true
   },
   "outputs": [
    {
     "data": {
      "text/html": [
       "<div>\n",
       "<style scoped>\n",
       "    .dataframe tbody tr th:only-of-type {\n",
       "        vertical-align: middle;\n",
       "    }\n",
       "\n",
       "    .dataframe tbody tr th {\n",
       "        vertical-align: top;\n",
       "    }\n",
       "\n",
       "    .dataframe thead th {\n",
       "        text-align: right;\n",
       "    }\n",
       "</style>\n",
       "<table border=\"1\" class=\"dataframe\">\n",
       "  <thead>\n",
       "    <tr style=\"text-align: right;\">\n",
       "      <th></th>\n",
       "      <th>categories</th>\n",
       "      <th>delivery.id</th>\n",
       "      <th>delivery.provider.icon.name</th>\n",
       "      <th>delivery.provider.icon.prefix</th>\n",
       "      <th>delivery.provider.icon.sizes</th>\n",
       "      <th>delivery.provider.name</th>\n",
       "      <th>delivery.url</th>\n",
       "      <th>hasPerk</th>\n",
       "      <th>id</th>\n",
       "      <th>location.address</th>\n",
       "      <th>...</th>\n",
       "      <th>location.crossStreet</th>\n",
       "      <th>location.distance</th>\n",
       "      <th>location.formattedAddress</th>\n",
       "      <th>location.labeledLatLngs</th>\n",
       "      <th>location.lat</th>\n",
       "      <th>location.lng</th>\n",
       "      <th>location.postalCode</th>\n",
       "      <th>location.state</th>\n",
       "      <th>name</th>\n",
       "      <th>referralId</th>\n",
       "    </tr>\n",
       "  </thead>\n",
       "  <tbody>\n",
       "    <tr>\n",
       "      <th>0</th>\n",
       "      <td>[{'id': '4bf58dd8d48988d1ca941735', 'name': 'P...</td>\n",
       "      <td>294544</td>\n",
       "      <td>/delivery_provider_seamless_20180129.png</td>\n",
       "      <td>https://fastly.4sqi.net/img/general/cap/</td>\n",
       "      <td>[40, 50]</td>\n",
       "      <td>seamless</td>\n",
       "      <td>https://www.seamless.com/menu/harrys-italian-p...</td>\n",
       "      <td>False</td>\n",
       "      <td>4fa862b3e4b0ebff2f749f06</td>\n",
       "      <td>225 Murray St</td>\n",
       "      <td>...</td>\n",
       "      <td>NaN</td>\n",
       "      <td>58</td>\n",
       "      <td>[225 Murray St, New York, NY 10282, United Sta...</td>\n",
       "      <td>[{'label': 'display', 'lat': 40.71521779064671...</td>\n",
       "      <td>40.715218</td>\n",
       "      <td>-74.014739</td>\n",
       "      <td>10282</td>\n",
       "      <td>NY</td>\n",
       "      <td>Harry's Italian Pizza Bar</td>\n",
       "      <td>v-1553199550</td>\n",
       "    </tr>\n",
       "    <tr>\n",
       "      <th>1</th>\n",
       "      <td>[{'id': '4d4b7105d754a06374d81259', 'name': 'F...</td>\n",
       "      <td>NaN</td>\n",
       "      <td>NaN</td>\n",
       "      <td>NaN</td>\n",
       "      <td>NaN</td>\n",
       "      <td>NaN</td>\n",
       "      <td>NaN</td>\n",
       "      <td>False</td>\n",
       "      <td>4f3232e219836c91c7bfde94</td>\n",
       "      <td>63 W Broadway</td>\n",
       "      <td>...</td>\n",
       "      <td>NaN</td>\n",
       "      <td>446</td>\n",
       "      <td>[63 W Broadway, New York, NY 10007, United Sta...</td>\n",
       "      <td>[{'label': 'display', 'lat': 40.71446, 'lng': ...</td>\n",
       "      <td>40.714460</td>\n",
       "      <td>-74.010086</td>\n",
       "      <td>10007</td>\n",
       "      <td>NY</td>\n",
       "      <td>Conca Cucina Italian Restaurant</td>\n",
       "      <td>v-1553199550</td>\n",
       "    </tr>\n",
       "    <tr>\n",
       "      <th>2</th>\n",
       "      <td>[{'id': '4bf58dd8d48988d110941735', 'name': 'I...</td>\n",
       "      <td>NaN</td>\n",
       "      <td>NaN</td>\n",
       "      <td>NaN</td>\n",
       "      <td>NaN</td>\n",
       "      <td>NaN</td>\n",
       "      <td>NaN</td>\n",
       "      <td>False</td>\n",
       "      <td>3fd66200f964a520f4e41ee3</td>\n",
       "      <td>124 Chambers St</td>\n",
       "      <td>...</td>\n",
       "      <td>btwn Church St &amp; W Broadway</td>\n",
       "      <td>549</td>\n",
       "      <td>[124 Chambers St (btwn Church St &amp; W Broadway)...</td>\n",
       "      <td>[{'label': 'display', 'lat': 40.71533713859952...</td>\n",
       "      <td>40.715337</td>\n",
       "      <td>-74.008848</td>\n",
       "      <td>10007</td>\n",
       "      <td>NY</td>\n",
       "      <td>Ecco</td>\n",
       "      <td>v-1553199550</td>\n",
       "    </tr>\n",
       "  </tbody>\n",
       "</table>\n",
       "<p>3 rows × 23 columns</p>\n",
       "</div>"
      ],
      "text/plain": [
       "                                          categories delivery.id  \\\n",
       "0  [{'id': '4bf58dd8d48988d1ca941735', 'name': 'P...      294544   \n",
       "1  [{'id': '4d4b7105d754a06374d81259', 'name': 'F...         NaN   \n",
       "2  [{'id': '4bf58dd8d48988d110941735', 'name': 'I...         NaN   \n",
       "\n",
       "                delivery.provider.icon.name  \\\n",
       "0  /delivery_provider_seamless_20180129.png   \n",
       "1                                       NaN   \n",
       "2                                       NaN   \n",
       "\n",
       "              delivery.provider.icon.prefix delivery.provider.icon.sizes  \\\n",
       "0  https://fastly.4sqi.net/img/general/cap/                     [40, 50]   \n",
       "1                                       NaN                          NaN   \n",
       "2                                       NaN                          NaN   \n",
       "\n",
       "  delivery.provider.name                                       delivery.url  \\\n",
       "0               seamless  https://www.seamless.com/menu/harrys-italian-p...   \n",
       "1                    NaN                                                NaN   \n",
       "2                    NaN                                                NaN   \n",
       "\n",
       "   hasPerk                        id location.address      ...       \\\n",
       "0    False  4fa862b3e4b0ebff2f749f06    225 Murray St      ...        \n",
       "1    False  4f3232e219836c91c7bfde94    63 W Broadway      ...        \n",
       "2    False  3fd66200f964a520f4e41ee3  124 Chambers St      ...        \n",
       "\n",
       "          location.crossStreet location.distance  \\\n",
       "0                          NaN                58   \n",
       "1                          NaN               446   \n",
       "2  btwn Church St & W Broadway               549   \n",
       "\n",
       "                           location.formattedAddress  \\\n",
       "0  [225 Murray St, New York, NY 10282, United Sta...   \n",
       "1  [63 W Broadway, New York, NY 10007, United Sta...   \n",
       "2  [124 Chambers St (btwn Church St & W Broadway)...   \n",
       "\n",
       "                             location.labeledLatLngs  location.lat  \\\n",
       "0  [{'label': 'display', 'lat': 40.71521779064671...     40.715218   \n",
       "1  [{'label': 'display', 'lat': 40.71446, 'lng': ...     40.714460   \n",
       "2  [{'label': 'display', 'lat': 40.71533713859952...     40.715337   \n",
       "\n",
       "  location.lng location.postalCode  location.state  \\\n",
       "0   -74.014739               10282              NY   \n",
       "1   -74.010086               10007              NY   \n",
       "2   -74.008848               10007              NY   \n",
       "\n",
       "                              name    referralId  \n",
       "0        Harry's Italian Pizza Bar  v-1553199550  \n",
       "1  Conca Cucina Italian Restaurant  v-1553199550  \n",
       "2                             Ecco  v-1553199550  \n",
       "\n",
       "[3 rows x 23 columns]"
      ]
     },
     "execution_count": 7,
     "metadata": {},
     "output_type": "execute_result"
    }
   ],
   "source": [
    "# take relevant results\n",
    "venues = results['response']['venues']\n",
    "\n",
    "# transform into pandas dataframe\n",
    "df = json_normalize(venues)\n",
    "df.head()"
   ]
  },
  {
   "cell_type": "code",
   "execution_count": 8,
   "metadata": {},
   "outputs": [],
   "source": [
    "# a function we will use for extracting the category name form the lengthy category feedback\n",
    "\n",
    "def get_category_list(row):\n",
    "    try: \n",
    "        category_list = row['categories']\n",
    "    except:\n",
    "        category_list = row['venues.categories']\n",
    "    \n",
    "    if len(category_list) == 0:\n",
    "        return None\n",
    "    else: \n",
    "        return category_list[0]['name']"
   ]
  },
  {
   "cell_type": "code",
   "execution_count": 9,
   "metadata": {},
   "outputs": [
    {
     "data": {
      "text/html": [
       "<div>\n",
       "<style scoped>\n",
       "    .dataframe tbody tr th:only-of-type {\n",
       "        vertical-align: middle;\n",
       "    }\n",
       "\n",
       "    .dataframe tbody tr th {\n",
       "        vertical-align: top;\n",
       "    }\n",
       "\n",
       "    .dataframe thead th {\n",
       "        text-align: right;\n",
       "    }\n",
       "</style>\n",
       "<table border=\"1\" class=\"dataframe\">\n",
       "  <thead>\n",
       "    <tr style=\"text-align: right;\">\n",
       "      <th></th>\n",
       "      <th>name</th>\n",
       "      <th>id</th>\n",
       "      <th>categories</th>\n",
       "      <th>address</th>\n",
       "      <th>cc</th>\n",
       "      <th>city</th>\n",
       "      <th>country</th>\n",
       "      <th>crossStreet</th>\n",
       "      <th>distance</th>\n",
       "      <th>formattedAddress</th>\n",
       "      <th>labeledLatLngs</th>\n",
       "      <th>lat</th>\n",
       "      <th>lng</th>\n",
       "      <th>postalCode</th>\n",
       "      <th>state</th>\n",
       "    </tr>\n",
       "  </thead>\n",
       "  <tbody>\n",
       "    <tr>\n",
       "      <th>0</th>\n",
       "      <td>Harry's Italian Pizza Bar</td>\n",
       "      <td>4fa862b3e4b0ebff2f749f06</td>\n",
       "      <td>Pizza Place</td>\n",
       "      <td>225 Murray St</td>\n",
       "      <td>US</td>\n",
       "      <td>New York</td>\n",
       "      <td>United States</td>\n",
       "      <td>NaN</td>\n",
       "      <td>58</td>\n",
       "      <td>[225 Murray St, New York, NY 10282, United Sta...</td>\n",
       "      <td>[{'label': 'display', 'lat': 40.71521779064671...</td>\n",
       "      <td>40.715218</td>\n",
       "      <td>-74.014739</td>\n",
       "      <td>10282</td>\n",
       "      <td>NY</td>\n",
       "    </tr>\n",
       "    <tr>\n",
       "      <th>1</th>\n",
       "      <td>Conca Cucina Italian Restaurant</td>\n",
       "      <td>4f3232e219836c91c7bfde94</td>\n",
       "      <td>Food</td>\n",
       "      <td>63 W Broadway</td>\n",
       "      <td>US</td>\n",
       "      <td>New York</td>\n",
       "      <td>United States</td>\n",
       "      <td>NaN</td>\n",
       "      <td>446</td>\n",
       "      <td>[63 W Broadway, New York, NY 10007, United Sta...</td>\n",
       "      <td>[{'label': 'display', 'lat': 40.71446, 'lng': ...</td>\n",
       "      <td>40.714460</td>\n",
       "      <td>-74.010086</td>\n",
       "      <td>10007</td>\n",
       "      <td>NY</td>\n",
       "    </tr>\n",
       "    <tr>\n",
       "      <th>2</th>\n",
       "      <td>Ecco</td>\n",
       "      <td>3fd66200f964a520f4e41ee3</td>\n",
       "      <td>Italian Restaurant</td>\n",
       "      <td>124 Chambers St</td>\n",
       "      <td>US</td>\n",
       "      <td>New York</td>\n",
       "      <td>United States</td>\n",
       "      <td>btwn Church St &amp; W Broadway</td>\n",
       "      <td>549</td>\n",
       "      <td>[124 Chambers St (btwn Church St &amp; W Broadway)...</td>\n",
       "      <td>[{'label': 'display', 'lat': 40.71533713859952...</td>\n",
       "      <td>40.715337</td>\n",
       "      <td>-74.008848</td>\n",
       "      <td>10007</td>\n",
       "      <td>NY</td>\n",
       "    </tr>\n",
       "  </tbody>\n",
       "</table>\n",
       "</div>"
      ],
      "text/plain": [
       "                              name                        id  \\\n",
       "0        Harry's Italian Pizza Bar  4fa862b3e4b0ebff2f749f06   \n",
       "1  Conca Cucina Italian Restaurant  4f3232e219836c91c7bfde94   \n",
       "2                             Ecco  3fd66200f964a520f4e41ee3   \n",
       "\n",
       "           categories          address  cc      city        country  \\\n",
       "0         Pizza Place    225 Murray St  US  New York  United States   \n",
       "1                Food    63 W Broadway  US  New York  United States   \n",
       "2  Italian Restaurant  124 Chambers St  US  New York  United States   \n",
       "\n",
       "                   crossStreet  distance  \\\n",
       "0                          NaN        58   \n",
       "1                          NaN       446   \n",
       "2  btwn Church St & W Broadway       549   \n",
       "\n",
       "                                    formattedAddress  \\\n",
       "0  [225 Murray St, New York, NY 10282, United Sta...   \n",
       "1  [63 W Broadway, New York, NY 10007, United Sta...   \n",
       "2  [124 Chambers St (btwn Church St & W Broadway)...   \n",
       "\n",
       "                                      labeledLatLngs        lat        lng  \\\n",
       "0  [{'label': 'display', 'lat': 40.71521779064671...  40.715218 -74.014739   \n",
       "1  [{'label': 'display', 'lat': 40.71446, 'lng': ...  40.714460 -74.010086   \n",
       "2  [{'label': 'display', 'lat': 40.71533713859952...  40.715337 -74.008848   \n",
       "\n",
       "  postalCode state  \n",
       "0      10282    NY  \n",
       "1      10007    NY  \n",
       "2      10007    NY  "
      ]
     },
     "execution_count": 9,
     "metadata": {},
     "output_type": "execute_result"
    }
   ],
   "source": [
    "# keep only columns that include venue name, and anything that is associated with location\n",
    "filtered_col = ['name','id','categories'] + [col for col in df.columns if col.startswith('location.')]\n",
    "df = df.loc[:,filtered_col]\n",
    "\n",
    "# simplify the category col\n",
    "df['categories'] = df.apply(get_category_list, axis = 1)\n",
    "\n",
    "# simplify the column index (getting rid of all the \"location.\")\n",
    "df.columns = [col.split(\".\")[-1] for col in df.columns]\n",
    "\n",
    "df.head()"
   ]
  },
  {
   "cell_type": "markdown",
   "metadata": {},
   "source": [
    "### generate visualization using folium"
   ]
  },
  {
   "cell_type": "code",
   "execution_count": 11,
   "metadata": {
    "collapsed": true
   },
   "outputs": [
    {
     "data": {
      "text/html": [
       "<div style=\"width:100%;\"><div style=\"position:relative;width:100%;height:0;padding-bottom:60%;\"><iframe src=\"data:text/html;charset=utf-8;base64,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\" style=\"position:absolute;width:100%;height:100%;left:0;top:0;border:none !important;\" allowfullscreen webkitallowfullscreen mozallowfullscreen></iframe></div></div>"
      ],
      "text/plain": [
       "<folium.folium.Map at 0x11c2aaa90>"
      ]
     },
     "execution_count": 11,
     "metadata": {},
     "output_type": "execute_result"
    }
   ],
   "source": [
    "venue_map = folium.Map(location = [latitude, longitude], zoom_start = 16) # generate a map centered around address\n",
    "\n",
    "# add red circle representing the centered address\n",
    "folium.features.CircleMarker(\n",
    "    [latitude, longitude],\n",
    "    radius = 10,\n",
    "    color = 'red',\n",
    "    popup = address_nickname,\n",
    "    fill = True,\n",
    "    fill_color = 'red',\n",
    "    fill_opacity = 0.6    \n",
    "    ).add_to(venue_map)\n",
    "\n",
    "# add the searched results as blue circles\n",
    "for lat, lon, cat, name in zip(df.lat, df.lng, df.categories, df.name):\n",
    "    label = \"{} ({})\".format(name, cat)           # popup only takes raw html format\n",
    "    label = folium.Popup(label, parse_html=True)  # when the string has ' or &, need parse_html=True\n",
    "    folium.features.CircleMarker(\n",
    "        [lat, lon],\n",
    "        radius = 5,\n",
    "        color = 'blue',\n",
    "        popup = label,\n",
    "        fill = True,\n",
    "        fill_color = 'blue',\n",
    "        fill_opacity = 0.6\n",
    "        ).add_to(venue_map)\n",
    "\n",
    "# display map\n",
    "venue_map"
   ]
  },
  {
   "cell_type": "markdown",
   "metadata": {},
   "source": [
    "# 2. Explore a given venue\n",
    "## 2.1 get more details for this venue\n",
    "> (premium call)\n",
    ">\n",
    "> `https://api.foursquare.com/v2/venues/`**VENUE_ID**`?`\n",
    "> `client_id=`**CLIENT_ID**`&client_secrete=`**CLIENT_SECRETE**`&v=`**VERSION**"
   ]
  },
  {
   "cell_type": "markdown",
   "metadata": {},
   "source": [
    "## 2.2 get tips for this venue\n",
    "> (regular call)\n",
    ">\n",
    "> `https://api.foursquare.com/v2/venues/`**VENUE_ID**/tips`?`\n",
    "> `client_id=`**CLIENT_ID**`&client_secrete=`**CLIENT_SECRETE**`&v=`**VERSION**`&limit=`**LIMIT**"
   ]
  },
  {
   "cell_type": "markdown",
   "metadata": {},
   "source": [
    "### make a call for specific venue"
   ]
  },
  {
   "cell_type": "code",
   "execution_count": 39,
   "metadata": {},
   "outputs": [],
   "source": [
    "# a function that generates url to look into the venue\n",
    "def venue_detail_url(client_id, client_secret, version,id):\n",
    "    url = 'https://api.foursquare.com/v2/venues/{}?client_id={}&client_secret={}&v={}'.format(id,client_id,client_secret, version)\n",
    "    return url\n",
    "\n",
    "def venue_tips_url(client_id, client_secret, version,id,limit):\n",
    "    url = 'https://api.foursquare.com/v2/venues/{}/tips?client_id={}&client_secret={}&v={}&limit={}'.format(id,client_id,client_secret, version, limit)\n",
    "    return url\n",
    "\n",
    "# a funtion that extracts the rating after call is made\n",
    "def rating(results):\n",
    "    try: \n",
    "        return results['response']['venue']['rating']\n",
    "    except:\n",
    "        return \"This venue does not have rating yet.\""
   ]
  },
  {
   "cell_type": "code",
   "execution_count": 30,
   "metadata": {},
   "outputs": [],
   "source": [
    "venue_id = [id for id in df.id]"
   ]
  },
  {
   "cell_type": "code",
   "execution_count": 31,
   "metadata": {},
   "outputs": [
    {
     "name": "stdout",
     "output_type": "stream",
     "text": [
      "dict_keys(['id', 'name', 'contact', 'location', 'canonicalUrl', 'categories', 'verified', 'stats', 'url', 'price', 'hasMenu', 'likes', 'dislike', 'ok', 'rating', 'ratingColor', 'ratingSignals', 'delivery', 'menu', 'allowMenuUrlEdit', 'beenHere', 'specials', 'photos', 'reasons', 'hereNow', 'createdAt', 'tips', 'shortUrl', 'timeZone', 'listed', 'hours', 'popular', 'pageUpdates', 'inbox', 'attributes', 'bestPhoto', 'colors'])\n"
     ]
    }
   ],
   "source": [
    "url = venue_detail_url(CLIENT_ID, CLIENT_SECRET, VERSION, venue_id[0])\n",
    "result = requests.get(url).json()\n",
    "\n",
    "# these are the info we can retrieve for each venue\n",
    "print(result['response']['venue'].keys())"
   ]
  },
  {
   "cell_type": "markdown",
   "metadata": {},
   "source": [
    "### check ratings for all venues"
   ]
  },
  {
   "cell_type": "code",
   "execution_count": 34,
   "metadata": {},
   "outputs": [
    {
     "name": "stdout",
     "output_type": "stream",
     "text": [
      "Harry's Italian Pizza Bar : 7.1 \n",
      "\n",
      "Conca Cucina Italian Restaurant : This venue does not have rating yet. \n",
      "\n",
      "Ecco : 7.8 \n",
      "\n"
     ]
    }
   ],
   "source": [
    "for i in range(len(venue_id)):\n",
    "    url = venue_detail_url(CLIENT_ID, CLIENT_SECRET, VERSION, venue_id[i])\n",
    "    result = requests.get(url).json()\n",
    "    print(result['response']['venue']['name'],\":\", rating(result),\"\\n\")"
   ]
  },
  {
   "cell_type": "markdown",
   "metadata": {},
   "source": [
    "### get the number of tips\n",
    "the third one seems to have the highest rating, let's explore its tips"
   ]
  },
  {
   "cell_type": "code",
   "execution_count": 38,
   "metadata": {},
   "outputs": [
    {
     "data": {
      "text/plain": [
       "16"
      ]
     },
     "execution_count": 38,
     "metadata": {},
     "output_type": "execute_result"
    }
   ],
   "source": [
    "result['response']['venue']['tips']['count']"
   ]
  },
  {
   "cell_type": "code",
   "execution_count": 43,
   "metadata": {},
   "outputs": [],
   "source": [
    "limit = 10\n",
    "url = venue_tips_url(CLIENT_ID,CLIENT_SECRET,VERSION,venue_id[2],limit)"
   ]
  },
  {
   "cell_type": "code",
   "execution_count": 50,
   "metadata": {
    "collapsed": true
   },
   "outputs": [
    {
     "data": {
      "text/plain": [
       "{'meta': {'code': 200, 'requestId': '5c93fbc31ed2192729f4c74b'},\n",
       " 'response': {'tips': {'count': 16,\n",
       "   'items': [{'id': '5ab1cb46c9a517174651d3fe',\n",
       "     'createdAt': 1521601350,\n",
       "     'text': 'A+ Italian food! Trust me on this: my mom’s side of the family is 100% Italian. I was born and bred to know good pasta when I see it, and Ecco is one of my all-time NYC favorites',\n",
       "     'type': 'user',\n",
       "     'canonicalUrl': 'https://foursquare.com/item/5ab1cb46c9a517174651d3fe',\n",
       "     'lang': 'en',\n",
       "     'likes': {'count': 0, 'groups': []},\n",
       "     'logView': True,\n",
       "     'agreeCount': 2,\n",
       "     'disagreeCount': 0,\n",
       "     'todo': {'count': 0},\n",
       "     'user': {'id': '484542633',\n",
       "      'firstName': 'Nick',\n",
       "      'lastName': 'El-Tawil',\n",
       "      'gender': 'male',\n",
       "      'photo': {'prefix': 'https://fastly.4sqi.net/img/user/',\n",
       "       'suffix': '/484542633_mK2Yum7T_7Tn9fWpndidJsmw2Hof_6T5vJBKCHPLMK5OL-U5ZiJGj51iwBstcpDLYa3Zvhvis.jpg'}},\n",
       "     'authorInteractionType': 'liked'},\n",
       "    {'id': '5247cb68498eeac13eb4c3e1',\n",
       "     'createdAt': 1380436840,\n",
       "     'text': 'Service was truly excellent- attentive, quick, & friendly. Food was equally amazing- particularly calamari and pollo alla scarpiello. The sauces were incredibly flavorful. Great wine list too! A+++',\n",
       "     'type': 'user',\n",
       "     'canonicalUrl': 'https://foursquare.com/item/5247cb68498eeac13eb4c3e1',\n",
       "     'lang': 'en',\n",
       "     'likes': {'count': 0, 'groups': []},\n",
       "     'logView': True,\n",
       "     'agreeCount': 0,\n",
       "     'disagreeCount': 0,\n",
       "     'todo': {'count': 0},\n",
       "     'user': {'id': '25279241',\n",
       "      'firstName': 'Nicole',\n",
       "      'lastName': 'F',\n",
       "      'gender': 'female',\n",
       "      'photo': {'prefix': 'https://fastly.4sqi.net/img/user/',\n",
       "       'suffix': '/SDJDCS2XH2USIRK0.jpg'}}}]}}}"
      ]
     },
     "execution_count": 50,
     "metadata": {},
     "output_type": "execute_result"
    }
   ],
   "source": [
    "tips_result = requests.get(url).json()\n",
    "tips_result"
   ]
  },
  {
   "cell_type": "code",
   "execution_count": 53,
   "metadata": {
    "collapsed": true
   },
   "outputs": [
    {
     "data": {
      "text/plain": [
       "{'id': '5ab1cb46c9a517174651d3fe',\n",
       " 'createdAt': 1521601350,\n",
       " 'text': 'A+ Italian food! Trust me on this: my mom’s side of the family is 100% Italian. I was born and bred to know good pasta when I see it, and Ecco is one of my all-time NYC favorites',\n",
       " 'type': 'user',\n",
       " 'canonicalUrl': 'https://foursquare.com/item/5ab1cb46c9a517174651d3fe',\n",
       " 'lang': 'en',\n",
       " 'likes': {'count': 0, 'groups': []},\n",
       " 'logView': True,\n",
       " 'agreeCount': 2,\n",
       " 'disagreeCount': 0,\n",
       " 'todo': {'count': 0},\n",
       " 'user': {'id': '484542633',\n",
       "  'firstName': 'Nick',\n",
       "  'lastName': 'El-Tawil',\n",
       "  'gender': 'male',\n",
       "  'photo': {'prefix': 'https://fastly.4sqi.net/img/user/',\n",
       "   'suffix': '/484542633_mK2Yum7T_7Tn9fWpndidJsmw2Hof_6T5vJBKCHPLMK5OL-U5ZiJGj51iwBstcpDLYa3Zvhvis.jpg'}},\n",
       " 'authorInteractionType': 'liked'}"
      ]
     },
     "execution_count": 53,
     "metadata": {},
     "output_type": "execute_result"
    }
   ],
   "source": [
    "tips = tips_result['response']['tips']['items']\n",
    "\n",
    "tip =tips[0]\n",
    "tip.keys()\n",
    "tip"
   ]
  },
  {
   "cell_type": "code",
   "execution_count": 54,
   "metadata": {},
   "outputs": [
    {
     "data": {
      "text/html": [
       "<div>\n",
       "<style scoped>\n",
       "    .dataframe tbody tr th:only-of-type {\n",
       "        vertical-align: middle;\n",
       "    }\n",
       "\n",
       "    .dataframe tbody tr th {\n",
       "        vertical-align: top;\n",
       "    }\n",
       "\n",
       "    .dataframe thead th {\n",
       "        text-align: right;\n",
       "    }\n",
       "</style>\n",
       "<table border=\"1\" class=\"dataframe\">\n",
       "  <thead>\n",
       "    <tr style=\"text-align: right;\">\n",
       "      <th></th>\n",
       "      <th>text</th>\n",
       "      <th>agreeCount</th>\n",
       "      <th>disagreeCount</th>\n",
       "      <th>id</th>\n",
       "      <th>user.firstName</th>\n",
       "      <th>user.lastName</th>\n",
       "      <th>user.gender</th>\n",
       "      <th>user.id</th>\n",
       "    </tr>\n",
       "  </thead>\n",
       "  <tbody>\n",
       "    <tr>\n",
       "      <th>0</th>\n",
       "      <td>A+ Italian food! Trust me on this: my mom’s side of the family is 100% Italian. I was born and bred to know good pasta when I see it, and Ecco is one of my all-time NYC favorites</td>\n",
       "      <td>2</td>\n",
       "      <td>0</td>\n",
       "      <td>5ab1cb46c9a517174651d3fe</td>\n",
       "      <td>Nick</td>\n",
       "      <td>El-Tawil</td>\n",
       "      <td>male</td>\n",
       "      <td>484542633</td>\n",
       "    </tr>\n",
       "    <tr>\n",
       "      <th>1</th>\n",
       "      <td>Service was truly excellent- attentive, quick, &amp; friendly. Food was equally amazing- particularly calamari and pollo alla scarpiello. The sauces were incredibly flavorful. Great wine list too! A+++</td>\n",
       "      <td>0</td>\n",
       "      <td>0</td>\n",
       "      <td>5247cb68498eeac13eb4c3e1</td>\n",
       "      <td>Nicole</td>\n",
       "      <td>F</td>\n",
       "      <td>female</td>\n",
       "      <td>25279241</td>\n",
       "    </tr>\n",
       "  </tbody>\n",
       "</table>\n",
       "</div>"
      ],
      "text/plain": [
       "                                                                                                                                                                                                    text  \\\n",
       "0  A+ Italian food! Trust me on this: my mom’s side of the family is 100% Italian. I was born and bred to know good pasta when I see it, and Ecco is one of my all-time NYC favorites                      \n",
       "1  Service was truly excellent- attentive, quick, & friendly. Food was equally amazing- particularly calamari and pollo alla scarpiello. The sauces were incredibly flavorful. Great wine list too! A+++   \n",
       "\n",
       "   agreeCount  disagreeCount                        id user.firstName  \\\n",
       "0  2           0              5ab1cb46c9a517174651d3fe  Nick            \n",
       "1  0           0              5247cb68498eeac13eb4c3e1  Nicole          \n",
       "\n",
       "  user.lastName user.gender    user.id  \n",
       "0  El-Tawil      male        484542633  \n",
       "1  F             female      25279241   "
      ]
     },
     "execution_count": 54,
     "metadata": {},
     "output_type": "execute_result"
    }
   ],
   "source": [
    "pd.set_option('display.max_colwidth', -1) # set the df width to the max of the page\n",
    "\n",
    "tips_df = json_normalize(tips)\n",
    "\n",
    "tips_filtered_col = ['text','agreeCount','disagreeCount','id','user.firstName','user.lastName','user.gender','user.id']\n",
    "tips_df = tips_df.loc[:,tips_filtered_col]\n",
    "tips_df"
   ]
  },
  {
   "cell_type": "markdown",
   "metadata": {},
   "source": [
    "note that we only have 2 instead of 15 tips, becuase we have limited access with this account"
   ]
  },
  {
   "cell_type": "markdown",
   "metadata": {},
   "source": [
    "# 3. search related to a Foursquare user\n",
    "### 3.1 get more detail for user\n",
    "> `https://api.foursquare.com/v2/`**users**`/`**USER_ID**`?client_id=`**CLIENT_ID**`&client_secret=`**CLIENT_SECRET**`&v=`**VERSION**"
   ]
  },
  {
   "cell_type": "markdown",
   "metadata": {},
   "source": [
    "### 3.2 get the tips for this user\n",
    "> `https://api.foursquare.com/v2/`**users**`/`**USER_ID**`/`**tips**`?client_id=`**CLIENT_ID**`&client_secret=`**CLIENT_SECRET**`&v=`**VERSION**`&limit=`**LIMIT**"
   ]
  },
  {
   "cell_type": "markdown",
   "metadata": {},
   "source": [
    "### 3.3 get a specific tip\n",
    "> `https://api.foursquare.com/v2/`**tips**`/`**TIPS_ID**`?client_id=`**CLIENT_ID**`&client_secret=`**CLIENT_SECRET**`&v=`**VERSION**"
   ]
  },
  {
   "cell_type": "code",
   "execution_count": 82,
   "metadata": {},
   "outputs": [],
   "source": [
    "user_id = 484542633\n",
    "\n",
    "# user detail\n",
    "def user_detail_url(client_id, client_secret,version,user_id):\n",
    "    url = 'https://api.foursquare.com/v2/users/{}?client_id={}&client_secret={}&v={}'.format(user_id,client_id,client_secret, version)\n",
    "    return url\n",
    "\n",
    "# user tips\n",
    "def user_tips_url(client_id, client_secret,version,user_id,limit):\n",
    "    url = 'https://api.foursquare.com/v2/users/{}/tips?client_id={}&client_secret={}&v={}&limit={}'.format(user_id,client_id,client_secret, version,limit)\n",
    "    return url\n",
    "\n",
    "# a specific tip\n",
    "def tip_url(client_id, client_secret,version,tip_id):\n",
    "    url = 'https://api.foursquare.com/v2/tips/{}?client_id={}&client_secret={}&v={}'.format(tip_id,client_id,client_secret, version)\n",
    "    return url\n"
   ]
  },
  {
   "cell_type": "markdown",
   "metadata": {},
   "source": [
    "### get details for a user"
   ]
  },
  {
   "cell_type": "code",
   "execution_count": 57,
   "metadata": {},
   "outputs": [
    {
     "data": {
      "text/plain": [
       "dict_keys(['id', 'firstName', 'lastName', 'gender', 'canonicalUrl', 'photo', 'friends', 'tips', 'homeCity', 'bio', 'contact', 'photos', 'type', 'mayorships', 'checkins', 'lists', 'lenses'])"
      ]
     },
     "execution_count": 57,
     "metadata": {},
     "output_type": "execute_result"
    }
   ],
   "source": [
    "url = user_detail_url(CLIENT_ID,CLIENT_SECRET,VERSION,user_id)\n",
    "results = requests.get(url).json()\n",
    "user_data = results['response']['user']\n",
    "user_data.keys()"
   ]
  },
  {
   "cell_type": "code",
   "execution_count": 66,
   "metadata": {},
   "outputs": [
    {
     "name": "stdout",
     "output_type": "stream",
     "text": [
      "Nick El-Tawil (from New York, NY )\n"
     ]
    },
    {
     "data": {
      "text/plain": [
       "{'count': 240}"
      ]
     },
     "execution_count": 66,
     "metadata": {},
     "output_type": "execute_result"
    }
   ],
   "source": [
    "print(user_data['firstName'],user_data['lastName'], \"(from\", user_data['homeCity'],\")\")\n",
    "user_data['tips']"
   ]
  },
  {
   "cell_type": "markdown",
   "metadata": {},
   "source": [
    "### get tips from this user"
   ]
  },
  {
   "cell_type": "code",
   "execution_count": 81,
   "metadata": {
    "scrolled": true
   },
   "outputs": [
    {
     "data": {
      "text/html": [
       "<div>\n",
       "<style scoped>\n",
       "    .dataframe tbody tr th:only-of-type {\n",
       "        vertical-align: middle;\n",
       "    }\n",
       "\n",
       "    .dataframe tbody tr th {\n",
       "        vertical-align: top;\n",
       "    }\n",
       "\n",
       "    .dataframe thead th {\n",
       "        text-align: right;\n",
       "    }\n",
       "</style>\n",
       "<table border=\"1\" class=\"dataframe\">\n",
       "  <thead>\n",
       "    <tr style=\"text-align: right;\">\n",
       "      <th></th>\n",
       "      <th>text</th>\n",
       "      <th>agreeCount</th>\n",
       "      <th>disagreeCount</th>\n",
       "      <th>id</th>\n",
       "    </tr>\n",
       "  </thead>\n",
       "  <tbody>\n",
       "    <tr>\n",
       "      <th>0</th>\n",
       "      <td>The best! I’m especially fond of the salmon burger, but I’ve had half of the menu and never been disappointed. There’s a reason this place is well known even outside of the Village!</td>\n",
       "      <td>1</td>\n",
       "      <td>0</td>\n",
       "      <td>5aec594b1f7440002c138612</td>\n",
       "    </tr>\n",
       "    <tr>\n",
       "      <th>1</th>\n",
       "      <td>I used to down a pint of chocolate like it was nothing back when I was bulking. Highly recommended!</td>\n",
       "      <td>1</td>\n",
       "      <td>0</td>\n",
       "      <td>5accc9f66fa81f196724807b</td>\n",
       "    </tr>\n",
       "    <tr>\n",
       "      <th>2</th>\n",
       "      <td>They serve coffee!!!!!!</td>\n",
       "      <td>1</td>\n",
       "      <td>0</td>\n",
       "      <td>5accc98c0313204c9d7ec157</td>\n",
       "    </tr>\n",
       "    <tr>\n",
       "      <th>3</th>\n",
       "      <td>I’m a fan. In fact, I’m such a big fan, I want Taim to hire me to be their spokesman. Kind of like the Arabic Jared Fogle - but without the kid stuff.</td>\n",
       "      <td>1</td>\n",
       "      <td>0</td>\n",
       "      <td>5accbf033abcaf09a24612a0</td>\n",
       "    </tr>\n",
       "    <tr>\n",
       "      <th>4</th>\n",
       "      <td>The linguine with clams is on point 👌</td>\n",
       "      <td>1</td>\n",
       "      <td>0</td>\n",
       "      <td>5accbe3a911fc423730f3ed3</td>\n",
       "    </tr>\n",
       "    <tr>\n",
       "      <th>5</th>\n",
       "      <td>Great for a quick, cheap lunch! Shorter lines than Chipotle too👌</td>\n",
       "      <td>1</td>\n",
       "      <td>0</td>\n",
       "      <td>5acbecb86fa81f1967e019b0</td>\n",
       "    </tr>\n",
       "    <tr>\n",
       "      <th>6</th>\n",
       "      <td>Quick, cheap lunch that tastes good! Way shorter line than Chipotle, too.</td>\n",
       "      <td>1</td>\n",
       "      <td>0</td>\n",
       "      <td>5acbec70a0215b732e264fe8</td>\n",
       "    </tr>\n",
       "    <tr>\n",
       "      <th>7</th>\n",
       "      <td>You’re not a real New Yorker until you’ve shame-ordered Insomnia Cookies for delivery at 3am</td>\n",
       "      <td>1</td>\n",
       "      <td>0</td>\n",
       "      <td>5acbbd4eb1538e45373b07f5</td>\n",
       "    </tr>\n",
       "    <tr>\n",
       "      <th>8</th>\n",
       "      <td>Good for you yet still tasty! Clean green protein is my go-to after I hit the gym 💪</td>\n",
       "      <td>2</td>\n",
       "      <td>0</td>\n",
       "      <td>5acbbcda01235808d5d6dc75</td>\n",
       "    </tr>\n",
       "    <tr>\n",
       "      <th>9</th>\n",
       "      <td>Coffee game on point</td>\n",
       "      <td>1</td>\n",
       "      <td>0</td>\n",
       "      <td>5acbbb1501235808d5d6525e</td>\n",
       "    </tr>\n",
       "    <tr>\n",
       "      <th>10</th>\n",
       "      <td>This is the dive bar to end all other dive bars. Go here if you like cheap drinks! 🥃</td>\n",
       "      <td>1</td>\n",
       "      <td>0</td>\n",
       "      <td>5ab576abea1e444f2abb051e</td>\n",
       "    </tr>\n",
       "    <tr>\n",
       "      <th>11</th>\n",
       "      <td>Burger game strong 💪</td>\n",
       "      <td>1</td>\n",
       "      <td>0</td>\n",
       "      <td>5ab575fb6bdee65f759da8c1</td>\n",
       "    </tr>\n",
       "    <tr>\n",
       "      <th>12</th>\n",
       "      <td>Great burgers &amp; fries! Also, this place is exactly what it’s like when you go to a bar in the Southwest. Source: I’m from Arizona.</td>\n",
       "      <td>2</td>\n",
       "      <td>0</td>\n",
       "      <td>5ab5575d73fe2516ad8f363b</td>\n",
       "    </tr>\n",
       "    <tr>\n",
       "      <th>13</th>\n",
       "      <td>That guy looks familiar...</td>\n",
       "      <td>1</td>\n",
       "      <td>0</td>\n",
       "      <td>5ab5299635f98312029a53b7</td>\n",
       "    </tr>\n",
       "    <tr>\n",
       "      <th>14</th>\n",
       "      <td>Açaí bowl + peanut butter + whey protein = 💪💪💪</td>\n",
       "      <td>1</td>\n",
       "      <td>0</td>\n",
       "      <td>5ab42db53c858d64af2688a4</td>\n",
       "    </tr>\n",
       "  </tbody>\n",
       "</table>\n",
       "</div>"
      ],
      "text/plain": [
       "                                                                                                                                                                                     text  \\\n",
       "0   The best! I’m especially fond of the salmon burger, but I’ve had half of the menu and never been disappointed. There’s a reason this place is well known even outside of the Village!   \n",
       "1   I used to down a pint of chocolate like it was nothing back when I was bulking. Highly recommended!                                                                                     \n",
       "2   They serve coffee!!!!!!                                                                                                                                                                 \n",
       "3   I’m a fan. In fact, I’m such a big fan, I want Taim to hire me to be their spokesman. Kind of like the Arabic Jared Fogle - but without the kid stuff.                                  \n",
       "4   The linguine with clams is on point 👌                                                                                                                                                   \n",
       "5   Great for a quick, cheap lunch! Shorter lines than Chipotle too👌                                                                                                                        \n",
       "6   Quick, cheap lunch that tastes good! Way shorter line than Chipotle, too.                                                                                                               \n",
       "7   You’re not a real New Yorker until you’ve shame-ordered Insomnia Cookies for delivery at 3am                                                                                            \n",
       "8   Good for you yet still tasty! Clean green protein is my go-to after I hit the gym 💪                                                                                                     \n",
       "9   Coffee game on point                                                                                                                                                                    \n",
       "10  This is the dive bar to end all other dive bars. Go here if you like cheap drinks! 🥃                                                                                                    \n",
       "11  Burger game strong 💪                                                                                                                                                                    \n",
       "12  Great burgers & fries! Also, this place is exactly what it’s like when you go to a bar in the Southwest. Source: I’m from Arizona.                                                      \n",
       "13  That guy looks familiar...                                                                                                                                                              \n",
       "14  Açaí bowl + peanut butter + whey protein = 💪💪💪                                                                                                                                          \n",
       "\n",
       "    agreeCount  disagreeCount                        id  \n",
       "0   1           0              5aec594b1f7440002c138612  \n",
       "1   1           0              5accc9f66fa81f196724807b  \n",
       "2   1           0              5accc98c0313204c9d7ec157  \n",
       "3   1           0              5accbf033abcaf09a24612a0  \n",
       "4   1           0              5accbe3a911fc423730f3ed3  \n",
       "5   1           0              5acbecb86fa81f1967e019b0  \n",
       "6   1           0              5acbec70a0215b732e264fe8  \n",
       "7   1           0              5acbbd4eb1538e45373b07f5  \n",
       "8   2           0              5acbbcda01235808d5d6dc75  \n",
       "9   1           0              5acbbb1501235808d5d6525e  \n",
       "10  1           0              5ab576abea1e444f2abb051e  \n",
       "11  1           0              5ab575fb6bdee65f759da8c1  \n",
       "12  2           0              5ab5575d73fe2516ad8f363b  \n",
       "13  1           0              5ab5299635f98312029a53b7  \n",
       "14  1           0              5ab42db53c858d64af2688a4  "
      ]
     },
     "execution_count": 81,
     "metadata": {},
     "output_type": "execute_result"
    }
   ],
   "source": [
    "limit = 15\n",
    "url = user_tips_url(CLIENT_ID,CLIENT_SECRET,VERSION,user_id,limit)\n",
    "results = requests.get(url).json()\n",
    "\n",
    "user_tips = results['response']['tips']['items']\n",
    "\n",
    "pd.set_option('display.max_colwidth', -1)\n",
    "tips_df = json_normalize(user_tips)\n",
    "\n",
    "filtered_col = ['text','agreeCount','disagreeCount','id']\n",
    "tips_df = tips_df.loc[:,filtered_col]\n",
    "tips_df"
   ]
  },
  {
   "cell_type": "markdown",
   "metadata": {},
   "source": [
    "### get the tip that's been agreed the most"
   ]
  },
  {
   "cell_type": "code",
   "execution_count": 91,
   "metadata": {},
   "outputs": [
    {
     "data": {
      "text/plain": [
       "dict_keys(['id', 'name', 'location', 'categories', 'delivery', 'photos', 'venuePage'])"
      ]
     },
     "execution_count": 91,
     "metadata": {},
     "output_type": "execute_result"
    }
   ],
   "source": [
    "tip_id = '5ab5575d73fe2516ad8f363b'\n",
    "\n",
    "url = tip_url(CLIENT_ID,CLIENT_SECRET,VERSION,tip_id)\n",
    "results = requests.get(url).json()\n",
    "\n",
    "# the venue corresponding to the most agreed tip\n",
    "tip = results['response']['tip']['venue']\n",
    "tip.keys()"
   ]
  },
  {
   "cell_type": "code",
   "execution_count": 94,
   "metadata": {},
   "outputs": [
    {
     "name": "stdout",
     "output_type": "stream",
     "text": [
      "Cowgirl\n",
      "{'address': '519 Hudson St', 'crossStreet': 'at W 10th St', 'lat': 40.73373338282062, 'lng': -74.0062998849649, 'labeledLatLngs': [{'label': 'display', 'lat': 40.73373338282062, 'lng': -74.0062998849649}], 'postalCode': '10014', 'cc': 'US', 'city': 'New York', 'state': 'NY', 'country': 'United States', 'formattedAddress': ['519 Hudson St (at W 10th St)', 'New York, NY 10014', 'United States']}\n"
     ]
    }
   ],
   "source": [
    "print(tip['name'])\n",
    "print(tip['location'])"
   ]
  },
  {
   "cell_type": "markdown",
   "metadata": {},
   "source": [
    "### user's friend"
   ]
  },
  {
   "cell_type": "code",
   "execution_count": 97,
   "metadata": {},
   "outputs": [
    {
     "data": {
      "text/plain": [
       "{'count': 0,\n",
       " 'groups': [{'type': 'others',\n",
       "   'name': 'Other friends',\n",
       "   'count': 0,\n",
       "   'items': []}]}"
      ]
     },
     "execution_count": 97,
     "metadata": {},
     "output_type": "execute_result"
    }
   ],
   "source": [
    "friends = user_data['friends']\n",
    "friends"
   ]
  },
  {
   "cell_type": "markdown",
   "metadata": {},
   "source": [
    "hmmmm he does not have friends on FourSquare"
   ]
  },
  {
   "cell_type": "markdown",
   "metadata": {},
   "source": [
    "### user's profile picture"
   ]
  },
  {
   "cell_type": "code",
   "execution_count": 99,
   "metadata": {},
   "outputs": [
    {
     "data": {
      "text/plain": [
       "{'prefix': 'https://fastly.4sqi.net/img/user/',\n",
       " 'suffix': '/484542633_mK2Yum7T_7Tn9fWpndidJsmw2Hof_6T5vJBKCHPLMK5OL-U5ZiJGj51iwBstcpDLYa3Zvhvis.jpg'}"
      ]
     },
     "execution_count": 99,
     "metadata": {},
     "output_type": "execute_result"
    }
   ],
   "source": [
    "user_data['photo']"
   ]
  },
  {
   "cell_type": "code",
   "execution_count": 103,
   "metadata": {},
   "outputs": [
    {
     "name": "stdout",
     "output_type": "stream",
     "text": [
      "https://fastly.4sqi.net/img/user/484542633_mK2Yum7T_7Tn9fWpndidJsmw2Hof_6T5vJBKCHPLMK5OL-U5ZiJGj51iwBstcpDLYa3Zvhvis.jpg\n"
     ]
    }
   ],
   "source": [
    "photo_url = \"{}{}\".format(user_data['photo']['prefix'][:-1:],user_data['photo']['suffix'])\n",
    "print(photo_url)"
   ]
  },
  {
   "cell_type": "code",
   "execution_count": 106,
   "metadata": {
    "collapsed": true
   },
   "outputs": [
    {
     "data": {
      "text/html": [
       "<img src=\"https://fastly.4sqi.net/img/user/484542633_mK2Yum7T_7Tn9fWpndidJsmw2Hof_6T5vJBKCHPLMK5OL-U5ZiJGj51iwBstcpDLYa3Zvhvis.jpg\"/>"
      ],
      "text/plain": [
       "<IPython.core.display.Image object>"
      ]
     },
     "execution_count": 106,
     "metadata": {},
     "output_type": "execute_result"
    }
   ],
   "source": [
    "Image(url = photo_url)"
   ]
  },
  {
   "cell_type": "markdown",
   "metadata": {},
   "source": [
    "# 4. Explore a location\n",
    "> `https://api.foursquare.com/v2/venues/`**explore**`?client_id=`**CLIENT_ID**`&client_secret=`**CLIENT_SECRET**`&ll=`**LATITUDE**`,`**LONGITUDE**`&v=`**VERSION**`&limit=`**LIMIT**"
   ]
  },
  {
   "cell_type": "code",
   "execution_count": 107,
   "metadata": {},
   "outputs": [],
   "source": [
    "def venue_explore_url(client_id, client_secret,lat, lon, version, limit):\n",
    "    url = 'https://api.foursquare.com/v2/venues/explore?client_id={}&client_secret={}&v={}&ll={},{}&limit={}'.format(client_id,client_secret, version,lat,lon,limit)\n",
    "    return url"
   ]
  },
  {
   "cell_type": "code",
   "execution_count": 111,
   "metadata": {},
   "outputs": [],
   "source": [
    "limit = 15\n",
    "url = venue_explore_url(CLIENT_ID,CLIENT_SECRET,latitude,longitude,VERSION, limit)\n",
    "results = requests.get(url).json()"
   ]
  },
  {
   "cell_type": "code",
   "execution_count": 125,
   "metadata": {
    "collapsed": true
   },
   "outputs": [
    {
     "data": {
      "text/plain": [
       "{'reasons': {'count': 0,\n",
       "  'items': [{'summary': 'This spot is popular',\n",
       "    'type': 'general',\n",
       "    'reasonName': 'globalInteractionReason'}]},\n",
       " 'venue': {'id': '4a6fa0abf964a520a4d61fe3',\n",
       "  'name': 'Brookfield Place - BFPL',\n",
       "  'location': {'address': '230 Vesey St',\n",
       "   'crossStreet': 'at West St',\n",
       "   'lat': 40.713203629795636,\n",
       "   'lng': -74.01561859633297,\n",
       "   'labeledLatLngs': [{'label': 'display',\n",
       "     'lat': 40.713203629795636,\n",
       "     'lng': -74.01561859633297}],\n",
       "   'distance': 196,\n",
       "   'postalCode': '10281',\n",
       "   'cc': 'US',\n",
       "   'city': 'New York',\n",
       "   'state': 'NY',\n",
       "   'country': 'United States',\n",
       "   'formattedAddress': ['230 Vesey St (at West St)',\n",
       "    'New York, NY 10281',\n",
       "    'United States']},\n",
       "  'categories': [{'id': '4bf58dd8d48988d1fd941735',\n",
       "    'name': 'Shopping Mall',\n",
       "    'pluralName': 'Shopping Malls',\n",
       "    'shortName': 'Mall',\n",
       "    'icon': {'prefix': 'https://ss3.4sqi.net/img/categories_v2/shops/mall_',\n",
       "     'suffix': '.png'},\n",
       "    'primary': True}],\n",
       "  'photos': {'count': 0, 'groups': []}},\n",
       " 'referralId': 'e-0-4a6fa0abf964a520a4d61fe3-0'}"
      ]
     },
     "execution_count": 125,
     "metadata": {},
     "output_type": "execute_result"
    }
   ],
   "source": [
    "# results['response']['groups'][0]['items']  ==> groups(group number of recommandations, only 1 group)\n",
    "#                                            ==> items(list of recommandations)\n",
    "items = results['response']['groups'][0]['items']\n",
    "items[0]"
   ]
  },
  {
   "cell_type": "code",
   "execution_count": 141,
   "metadata": {
    "collapsed": true
   },
   "outputs": [
    {
     "data": {
      "text/html": [
       "<div>\n",
       "<style scoped>\n",
       "    .dataframe tbody tr th:only-of-type {\n",
       "        vertical-align: middle;\n",
       "    }\n",
       "\n",
       "    .dataframe tbody tr th {\n",
       "        vertical-align: top;\n",
       "    }\n",
       "\n",
       "    .dataframe thead th {\n",
       "        text-align: right;\n",
       "    }\n",
       "</style>\n",
       "<table border=\"1\" class=\"dataframe\">\n",
       "  <thead>\n",
       "    <tr style=\"text-align: right;\">\n",
       "      <th></th>\n",
       "      <th>name</th>\n",
       "      <th>categories</th>\n",
       "      <th>id</th>\n",
       "      <th>address</th>\n",
       "      <th>cc</th>\n",
       "      <th>city</th>\n",
       "      <th>country</th>\n",
       "      <th>crossStreet</th>\n",
       "      <th>distance</th>\n",
       "      <th>formattedAddress</th>\n",
       "      <th>labeledLatLngs</th>\n",
       "      <th>lat</th>\n",
       "      <th>lng</th>\n",
       "      <th>neighborhood</th>\n",
       "      <th>postalCode</th>\n",
       "      <th>state</th>\n",
       "    </tr>\n",
       "  </thead>\n",
       "  <tbody>\n",
       "    <tr>\n",
       "      <th>0</th>\n",
       "      <td>Brookfield Place - BFPL</td>\n",
       "      <td>Shopping Mall</td>\n",
       "      <td>4a6fa0abf964a520a4d61fe3</td>\n",
       "      <td>230 Vesey St</td>\n",
       "      <td>US</td>\n",
       "      <td>New York</td>\n",
       "      <td>United States</td>\n",
       "      <td>at West St</td>\n",
       "      <td>196</td>\n",
       "      <td>[230 Vesey St (at West St), New York, NY 10281, United States]</td>\n",
       "      <td>[{'label': 'display', 'lat': 40.713203629795636, 'lng': -74.01561859633297}]</td>\n",
       "      <td>40.713204</td>\n",
       "      <td>-74.015619</td>\n",
       "      <td>NaN</td>\n",
       "      <td>10281</td>\n",
       "      <td>NY</td>\n",
       "    </tr>\n",
       "    <tr>\n",
       "      <th>1</th>\n",
       "      <td>Waterfront Plaza, Brookfield Place</td>\n",
       "      <td>Plaza</td>\n",
       "      <td>4a0b04dcf964a520ba741fe3</td>\n",
       "      <td>230 Vesey Street</td>\n",
       "      <td>US</td>\n",
       "      <td>New York</td>\n",
       "      <td>United States</td>\n",
       "      <td>NaN</td>\n",
       "      <td>205</td>\n",
       "      <td>[230 Vesey Street, New York, NY 10281, United States]</td>\n",
       "      <td>[{'label': 'display', 'lat': 40.71324098127375, 'lng': -74.01624118660538}]</td>\n",
       "      <td>40.713241</td>\n",
       "      <td>-74.016241</td>\n",
       "      <td>NaN</td>\n",
       "      <td>10281</td>\n",
       "      <td>NY</td>\n",
       "    </tr>\n",
       "    <tr>\n",
       "      <th>2</th>\n",
       "      <td>Asphalt Green Battery Park City</td>\n",
       "      <td>Athletics &amp; Sports</td>\n",
       "      <td>51bcd723498eecb51dd996bc</td>\n",
       "      <td>212 N End Ave</td>\n",
       "      <td>US</td>\n",
       "      <td>New York</td>\n",
       "      <td>United States</td>\n",
       "      <td>Murray Street</td>\n",
       "      <td>121</td>\n",
       "      <td>[212 N End Ave (Murray Street), New York, NY 10282, United States]</td>\n",
       "      <td>[{'label': 'display', 'lat': 40.715923644223366, 'lng': -74.01467345576101}]</td>\n",
       "      <td>40.715924</td>\n",
       "      <td>-74.014673</td>\n",
       "      <td>NaN</td>\n",
       "      <td>10282</td>\n",
       "      <td>NY</td>\n",
       "    </tr>\n",
       "    <tr>\n",
       "      <th>3</th>\n",
       "      <td>Irish Hunger Memorial</td>\n",
       "      <td>Monument / Landmark</td>\n",
       "      <td>4a397f7ef964a520839f1fe3</td>\n",
       "      <td>Vesey St &amp; North End Ave</td>\n",
       "      <td>US</td>\n",
       "      <td>New York</td>\n",
       "      <td>United States</td>\n",
       "      <td>NaN</td>\n",
       "      <td>104</td>\n",
       "      <td>[Vesey St &amp; North End Ave, New York, NY 10282, United States]</td>\n",
       "      <td>[{'label': 'display', 'lat': 40.71513873128946, 'lng': -74.01655655956712}]</td>\n",
       "      <td>40.715139</td>\n",
       "      <td>-74.016557</td>\n",
       "      <td>Battery Park City</td>\n",
       "      <td>10282</td>\n",
       "      <td>NY</td>\n",
       "    </tr>\n",
       "    <tr>\n",
       "      <th>4</th>\n",
       "      <td>Shake Shack</td>\n",
       "      <td>Burger Joint</td>\n",
       "      <td>4dda977ad22d38ef4332c419</td>\n",
       "      <td>215 Murray St</td>\n",
       "      <td>US</td>\n",
       "      <td>New York</td>\n",
       "      <td>United States</td>\n",
       "      <td>btwn West St &amp; North End Ave</td>\n",
       "      <td>64</td>\n",
       "      <td>[215 Murray St (btwn West St &amp; North End Ave), New York, NY 10282, United States]</td>\n",
       "      <td>[{'label': 'display', 'lat': 40.71532572032048, 'lng': -74.01475032559945}]</td>\n",
       "      <td>40.715326</td>\n",
       "      <td>-74.014750</td>\n",
       "      <td>NaN</td>\n",
       "      <td>10282</td>\n",
       "      <td>NY</td>\n",
       "    </tr>\n",
       "  </tbody>\n",
       "</table>\n",
       "</div>"
      ],
      "text/plain": [
       "                                 name           categories  \\\n",
       "0  Brookfield Place - BFPL             Shopping Mall         \n",
       "1  Waterfront Plaza, Brookfield Place  Plaza                 \n",
       "2  Asphalt Green Battery Park City     Athletics & Sports    \n",
       "3  Irish Hunger Memorial               Monument / Landmark   \n",
       "4  Shake Shack                         Burger Joint          \n",
       "\n",
       "                         id                   address  cc      city  \\\n",
       "0  4a6fa0abf964a520a4d61fe3  230 Vesey St              US  New York   \n",
       "1  4a0b04dcf964a520ba741fe3  230 Vesey Street          US  New York   \n",
       "2  51bcd723498eecb51dd996bc  212 N End Ave             US  New York   \n",
       "3  4a397f7ef964a520839f1fe3  Vesey St & North End Ave  US  New York   \n",
       "4  4dda977ad22d38ef4332c419  215 Murray St             US  New York   \n",
       "\n",
       "         country                   crossStreet  distance  \\\n",
       "0  United States  at West St                    196        \n",
       "1  United States  NaN                           205        \n",
       "2  United States  Murray Street                 121        \n",
       "3  United States  NaN                           104        \n",
       "4  United States  btwn West St & North End Ave  64         \n",
       "\n",
       "                                                                    formattedAddress  \\\n",
       "0  [230 Vesey St (at West St), New York, NY 10281, United States]                      \n",
       "1  [230 Vesey Street, New York, NY 10281, United States]                               \n",
       "2  [212 N End Ave (Murray Street), New York, NY 10282, United States]                  \n",
       "3  [Vesey St & North End Ave, New York, NY 10282, United States]                       \n",
       "4  [215 Murray St (btwn West St & North End Ave), New York, NY 10282, United States]   \n",
       "\n",
       "                                                                 labeledLatLngs  \\\n",
       "0  [{'label': 'display', 'lat': 40.713203629795636, 'lng': -74.01561859633297}]   \n",
       "1  [{'label': 'display', 'lat': 40.71324098127375, 'lng': -74.01624118660538}]    \n",
       "2  [{'label': 'display', 'lat': 40.715923644223366, 'lng': -74.01467345576101}]   \n",
       "3  [{'label': 'display', 'lat': 40.71513873128946, 'lng': -74.01655655956712}]    \n",
       "4  [{'label': 'display', 'lat': 40.71532572032048, 'lng': -74.01475032559945}]    \n",
       "\n",
       "         lat        lng       neighborhood postalCode state  \n",
       "0  40.713204 -74.015619  NaN                10281      NY    \n",
       "1  40.713241 -74.016241  NaN                10281      NY    \n",
       "2  40.715924 -74.014673  NaN                10282      NY    \n",
       "3  40.715139 -74.016557  Battery Park City  10282      NY    \n",
       "4  40.715326 -74.014750  NaN                10282      NY    "
      ]
     },
     "execution_count": 141,
     "metadata": {},
     "output_type": "execute_result"
    }
   ],
   "source": [
    "# clean up the recommendation list\n",
    "df = json_normalize(items)\n",
    "filtered_col = ['venue.name', 'venue.categories','venue.id'] + [col for col in df.columns if col.startswith('venue.location.')]\n",
    "df = df.loc[:, filtered_col]\n",
    "\n",
    "# remove venue.location\n",
    "df.columns = [col.split('.')[-1] for col in df.columns]\n",
    "\n",
    "# extract category\n",
    "df['categories'] = df.apply(get_category_list, axis = 1)\n",
    "df.head()\n"
   ]
  },
  {
   "cell_type": "code",
   "execution_count": 143,
   "metadata": {},
   "outputs": [
    {
     "data": {
      "text/html": [
       "<div style=\"width:100%;\"><div style=\"position:relative;width:100%;height:0;padding-bottom:60%;\"><iframe src=\"data:text/html;charset=utf-8;base64,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\" style=\"position:absolute;width:100%;height:100%;left:0;top:0;border:none !important;\" allowfullscreen webkitallowfullscreen mozallowfullscreen></iframe></div></div>"
      ],
      "text/plain": [
       "<folium.folium.Map at 0x11f2ec908>"
      ]
     },
     "execution_count": 143,
     "metadata": {},
     "output_type": "execute_result"
    }
   ],
   "source": [
    "# plot it in a folium map\n",
    "\n",
    "rec_map = folium.Map(location = [latitude, longitude], zoom_start = 16) # generate a map centered around address\n",
    "\n",
    "# add red circle representing the centered address\n",
    "folium.features.CircleMarker(\n",
    "    [latitude, longitude],\n",
    "    radius = 10,\n",
    "    color = 'red',\n",
    "    popup = address_nickname,\n",
    "    fill = True,\n",
    "    fill_color = 'red',\n",
    "    fill_opacity = 0.6    \n",
    "    ).add_to(rec_map)\n",
    "\n",
    "# add the searched results as blue circles\n",
    "for lat, lon, cat, name in zip(df.lat, df.lng, df.categories, df.name):\n",
    "    label = \"{} ({})\".format(name, cat)           # popup only takes raw html format\n",
    "    label = folium.Popup(label, parse_html=True)  # when the string has ' or &, need parse_html=True\n",
    "    folium.features.CircleMarker(\n",
    "        [lat, lon],\n",
    "        radius = 5,\n",
    "        color = 'blue',\n",
    "        popup = label,\n",
    "        fill = True,\n",
    "        fill_color = 'blue',\n",
    "        fill_opacity = 0.6\n",
    "        ).add_to(rec_map)\n",
    "\n",
    "# display map\n",
    "rec_map"
   ]
  },
  {
   "cell_type": "markdown",
   "metadata": {},
   "source": [
    "# 5. Explore Trending Venue\n",
    "> `https://api.foursquare.com/v2/venues/`**trending**`?client_id=`**CLIENT_ID**`&client_secret=`**CLIENT_SECRET**`&ll=`**LATITUDE**`,`**LONGITUDE**`&v=`**VERSION**"
   ]
  },
  {
   "cell_type": "code",
   "execution_count": 149,
   "metadata": {},
   "outputs": [
    {
     "data": {
      "text/plain": [
       "[{'id': '4eefd4506d86d722df8fd52e',\n",
       "  'name': 'Houston Hall',\n",
       "  'location': {'address': '222 W Houston St',\n",
       "   'crossStreet': 'btwn Varick & Bedford St',\n",
       "   'lat': 40.72879213466685,\n",
       "   'lng': -74.00476202123185,\n",
       "   'labeledLatLngs': [{'label': 'display',\n",
       "     'lat': 40.72879213466685,\n",
       "     'lng': -74.00476202123185}],\n",
       "   'distance': 1779,\n",
       "   'postalCode': '10014',\n",
       "   'cc': 'US',\n",
       "   'city': 'New York',\n",
       "   'state': 'NY',\n",
       "   'country': 'United States',\n",
       "   'formattedAddress': ['222 W Houston St (btwn Varick & Bedford St)',\n",
       "    'New York, NY 10014',\n",
       "    'United States']},\n",
       "  'categories': [{'id': '4bf58dd8d48988d117941735',\n",
       "    'name': 'Beer Garden',\n",
       "    'pluralName': 'Beer Gardens',\n",
       "    'shortName': 'Beer Garden',\n",
       "    'icon': {'prefix': 'https://ss3.4sqi.net/img/categories_v2/nightlife/beergarden_',\n",
       "     'suffix': '.png'},\n",
       "    'primary': True}],\n",
       "  'venuePage': {'id': '49129782'}}]"
      ]
     },
     "execution_count": 149,
     "metadata": {},
     "output_type": "execute_result"
    }
   ],
   "source": [
    "# define URL\n",
    "url = 'https://api.foursquare.com/v2/venues/trending?client_id={}&client_secret={}&ll={},{}&v={}'.format(CLIENT_ID, CLIENT_SECRET, latitude, longitude, VERSION)\n",
    "\n",
    "# send GET request and get trending venues\n",
    "results = requests.get(url).json()\n",
    "results['response']['venues']\n",
    "        "
   ]
  },
  {
   "cell_type": "code",
   "execution_count": null,
   "metadata": {},
   "outputs": [],
   "source": [
    "if len(results['response']['venues']==0):\n",
    "    print(\"Currently, there is no trending venue.\")\n",
    "else: trending_venues = results['response']['venues']\n",
    "    trending_venues_df = json_normalize(trending_venues)\n",
    "\n",
    "    # filter columns\n",
    "    columns_filtered = ['name', 'categories'] + ['location.distance', 'location.city', 'location.postalCode', 'location.state', 'location.country', 'location.lat', 'location.lng']\n",
    "    trending_venues_df = trending_venues_df.loc[:, columns_filtered]\n",
    "\n",
    "    # filter the category for each row\n",
    "    trending_venues_df['categories'] = trending_venues_df.apply(get_category_type, axis=1)"
   ]
  }
 ],
 "metadata": {
  "kernelspec": {
   "display_name": "Python 3",
   "language": "python",
   "name": "python3"
  },
  "language_info": {
   "codemirror_mode": {
    "name": "ipython",
    "version": 3
   },
   "file_extension": ".py",
   "mimetype": "text/x-python",
   "name": "python",
   "nbconvert_exporter": "python",
   "pygments_lexer": "ipython3",
   "version": "3.7.1"
  }
 },
 "nbformat": 4,
 "nbformat_minor": 2
}
