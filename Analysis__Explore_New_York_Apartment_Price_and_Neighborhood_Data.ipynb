{
 "cells": [
  {
   "cell_type": "markdown",
   "metadata": {},
   "source": [
    "# IBM Data Science Professional Specialization - Coursera"
   ]
  },
  {
   "cell_type": "markdown",
   "metadata": {},
   "source": [
    "This notebook is for the capstone project, fulfilling the requirement for the __[IBM Data Science Professional Specialization](https://www.coursera.org/specializations/ibm-data-science-professional-certificate)__. \n",
    "\n",
    "\n",
    "In this analysis, the following content will be listed \n",
    "- Web scraping: obtain apartment rental price by neighbourhood\n",
    "- Data wrangling: clean up the data using python pandas \n",
    "- Data analyze:\n",
    "  - obtain more neighbourhood venue data using Four Square data base, \n",
    "  - explore the data set in pandas, matplotlib, etc \n",
    "  - perform rental price prediction using machine learning skills  \n",
    "  \n",
    "  \n",
    "  \n",
    "### Author: Estella Yu ###\n",
    "email: estellayyu@gmail.com || \n",
    "LinkedIn: __[Yingxian Estella Yu](https://www.linkedin.com/in/estella-yingxian-y-65b3b883/)__\n",
    "\n",
    "\n",
    "\n",
    "keyword:  *`web scraping`*, *`data wrangling`*, *`python`*, *`pandas`*, *`folium`*, *`Four Square`*\n"
   ]
  },
  {
   "cell_type": "markdown",
   "metadata": {},
   "source": [
    "# I. Introduction \n",
    "\n",
    "### 1. Background\n",
    "\n",
    "New York is such a unique place full of attractions from the financial capital, fashion trends, artistic and historic atmosphere, that words just simply can't describe enough. The only way to know the life in New York is simply to experience it. Yet, city life comes with a lot of dollar signs _--$$--_  especially in Manhattan. According to the recent National Rent Report (__[Feb 2019](https://www.zumper.com/blog/2019/01/zumper-national-rent-report-february-2019/)__), the rental price in New York for a 1 Bedroom apartment ( **$2,780** ) is ranking 2nd across the nation, right behind the crazy San Fransisco. What's more, based on the data shown in  __[businessinsider](https://www.businessinsider.com/manhattan-rent-by-neighborhood-ranked-from-lowest-to-highest-2018-5)__, the asking rent has drastically increased by **33%** in the window from Dec 2009 to July 2017 (in less than 9 years)!\n",
    "\n",
    "Therefore, it's of special significance to analyze and understand the housing trend in New York. With some simple search, one can easily spot that the housing price in New York is highly correlated with its location. For example, the rent near Soho (average `$5,000 - $6,000+`) is higher than the Manhattan average by 52%, and is certainly more pricy than the rent near East Harlem (average `$2,000 - $3,000+`). \n",
    "\n",
    "So to what extend can we predict the rent in Manhattan based on the neighboring venue, an important component that contributes to the vibes in the neighborhood? Is it easier to spot an Italian restaurant than a pizza store at the pricy neighborhood? How much does a school, a mall, a supermarket potentially contribute to the housing price? We are going to figure it out in this report!\n",
    "\n",
    "### 2. Project Description\n",
    "\n",
    "Using data to analyze the following questions: \n",
    " - *`Why`* do we want to analyze the housing price in __New York__?\n",
    " - *`How`* is the apartment rental price vary by __neighborhood__?\n",
    " - If you are planning to move to a new neighborhood, *`what`* typical __venues__ will you be looking for? \n",
    " - Do the popular venue & higher end apartment price align?\n",
    "\n",
    "### 3. potential terget reader\n",
    "The results and analysis enclosed in this project can be closely relevant to: \n",
    " - People related to rental activities in New York (landloard, tenant, real estate agent, ect)\n",
    " - Bussiness personal: if one plans to open a new bussiness in a certain neighborhood, which neighborhoods are more appropriate, and do the target neighborhoods have relevant venue already? \n",
    " - or Anyone who's courious about data (like us! :))"
   ]
  },
  {
   "cell_type": "markdown",
   "metadata": {},
   "source": [
    "# II. Data Description \n",
    "### 1. Data Source:\n",
    "- __[Zumper](https://www.zumper.com/blog/2019/01/zumper-national-rent-report-february-2019/)__: National Rent Report: February 2019\n",
    "- __[Rentcafe](https://www.rentcafe.com/average-rent-market-trends/us/ny/manhattan/)__: Manhattan, NY Rental Market Trends\n",
    "- __[School locations in Manhattan](http://www.lat-long.com/Search.cfm?q=+school&State=NY&County=New+York&FeatureType=school)__\n",
    "- __[Four Square API](https://developer.foursquare.com/)__: venue data around each neighbourhood\n",
    "\n",
    "### 2. Data Collection:\n",
    " 1. Data from National Rent Report and Manhattan rent market trend will be scraped fromthe web\n",
    " 2. For each neighborhood, it's lattitude and longitude information will be collected using Geocoder\n",
    " 3. For each neighborhood, call Four Square API to obtain sourounding detailed venue data\n",
    " \n",
    "### 3. Use data to solve the problem:\n",
    "1. Visualize the national rent price across nation (Matplotlib, bubble plot)\n",
    "2. Cluster the neighborhood based on rental price, closeby venues, etc.\n",
    "3. Plot rental price v.s. popular venue across all neighborhood, and explore correlations\n",
    "4. Analyze a special venue -- Schools. Investigate how does distance to each school potentially contribute to the housing price\n",
    " \n"
   ]
  },
  {
   "cell_type": "markdown",
   "metadata": {},
   "source": [
    "# III. Import Data"
   ]
  },
  {
   "cell_type": "code",
   "execution_count": 1,
   "metadata": {},
   "outputs": [
    {
     "name": "stdout",
     "output_type": "stream",
     "text": [
      "Libraries Imported!\n"
     ]
    }
   ],
   "source": [
    "from bs4 import BeautifulSoup # for obtaining clean html content\n",
    "\n",
    "import numpy as np\n",
    "import pandas as pd\n",
    "\n",
    "import requests # for getting html content\n",
    "import folium\n",
    "from folium import plugins\n",
    "from folium.plugins import HeatMap\n",
    "from geopy.geocoders import Nominatim # convert an address intolatitude and longitude values\n",
    "\n",
    "import datetime\n",
    "from pandas.io.json import json_normalize # tranform JSON file into a pandas dataframe\n",
    "from sklearn.cluster import KMeans\n",
    "\n",
    "import matplotlib.cm as cm\n",
    "import matplotlib.colors as colors\n",
    "\n",
    "print(\"Libraries Imported!\")"
   ]
  },
  {
   "cell_type": "markdown",
   "metadata": {},
   "source": [
    "### 1. extract & plot rental price based on disctrict in Manhattan"
   ]
  },
  {
   "cell_type": "markdown",
   "metadata": {},
   "source": [
    "    1) use beautiful soup to extract website content"
   ]
  },
  {
   "cell_type": "code",
   "execution_count": 2,
   "metadata": {},
   "outputs": [],
   "source": [
    "############1. obtain data from website (using BeautyfulSoup)####################\n",
    "web_link = 'https://www.rentcafe.com/average-rent-market-trends/us/ny/manhattan/'\n",
    "web_neighborhood = requests.get(web_link)\n",
    "\n",
    "soup = BeautifulSoup(web_neighborhood.content, 'html.parser')"
   ]
  },
  {
   "cell_type": "markdown",
   "metadata": {},
   "source": [
    "    2) clean up the text & extract content in the table"
   ]
  },
  {
   "cell_type": "code",
   "execution_count": 7,
   "metadata": {},
   "outputs": [
    {
     "data": {
      "text/html": [
       "<div>\n",
       "<style scoped>\n",
       "    .dataframe tbody tr th:only-of-type {\n",
       "        vertical-align: middle;\n",
       "    }\n",
       "\n",
       "    .dataframe tbody tr th {\n",
       "        vertical-align: top;\n",
       "    }\n",
       "\n",
       "    .dataframe thead th {\n",
       "        text-align: right;\n",
       "    }\n",
       "</style>\n",
       "<table border=\"1\" class=\"dataframe\">\n",
       "  <thead>\n",
       "    <tr style=\"text-align: right;\">\n",
       "      <th></th>\n",
       "      <th>Neighborhood</th>\n",
       "      <th>Average Rent</th>\n",
       "      <th>loc_lat</th>\n",
       "      <th>loc_lon</th>\n",
       "    </tr>\n",
       "  </thead>\n",
       "  <tbody>\n",
       "    <tr>\n",
       "      <th>0</th>\n",
       "      <td>Marble Hill</td>\n",
       "      <td>1694.0</td>\n",
       "      <td>40.8762983</td>\n",
       "      <td>-73.9104292</td>\n",
       "    </tr>\n",
       "    <tr>\n",
       "      <th>1</th>\n",
       "      <td>Inwood</td>\n",
       "      <td>2225.0</td>\n",
       "      <td>40.8692579</td>\n",
       "      <td>-73.9204949</td>\n",
       "    </tr>\n",
       "    <tr>\n",
       "      <th>2</th>\n",
       "      <td>Washington Heights</td>\n",
       "      <td>2243.0</td>\n",
       "      <td>40.8401984</td>\n",
       "      <td>-73.9402214</td>\n",
       "    </tr>\n",
       "    <tr>\n",
       "      <th>3</th>\n",
       "      <td>Randalls and Wards Islands</td>\n",
       "      <td>2336.0</td>\n",
       "      <td>40.79144785</td>\n",
       "      <td>-73.921023713881</td>\n",
       "    </tr>\n",
       "    <tr>\n",
       "      <th>4</th>\n",
       "      <td>East Harlem</td>\n",
       "      <td>3334.0</td>\n",
       "      <td>40.7947222</td>\n",
       "      <td>-73.9425</td>\n",
       "    </tr>\n",
       "  </tbody>\n",
       "</table>\n",
       "</div>"
      ],
      "text/plain": [
       "                 Neighborhood Average Rent      loc_lat           loc_lon\n",
       "0                 Marble Hill       1694.0   40.8762983       -73.9104292\n",
       "1                      Inwood       2225.0   40.8692579       -73.9204949\n",
       "2          Washington Heights       2243.0   40.8401984       -73.9402214\n",
       "3  Randalls and Wards Islands       2336.0  40.79144785  -73.921023713881\n",
       "4                 East Harlem       3334.0   40.7947222          -73.9425"
      ]
     },
     "execution_count": 7,
     "metadata": {},
     "output_type": "execute_result"
    }
   ],
   "source": [
    "geolocator = Nominatim(user_agent=\"loc_locator\")\n",
    "priceTable = soup.find(\"table\", id = \"MarketTrendsAverageRentTable\")\n",
    "content = priceTable.find_all('tr')\n",
    "a = []\n",
    "for con in content:\n",
    "    pricepair = con.text.lstrip().rstrip()\n",
    "    pricepair = pricepair.split(\"\\n\")\n",
    "\n",
    "    # there are some exceptions in naming the region (e.g. Theatre District - Times Square)\n",
    "    # here we only choose the first half (before the \"-\")\n",
    "    if (\"-\" in pricepair[0]):\n",
    "        pricepair[0] = pricepair[0].split(' - ')[0]\n",
    "        \n",
    "    a.append(pricepair[0])\n",
    "    if 1 < len(a) < 3: a.append(pricepair[1])\n",
    "    if len(a) > 3:\n",
    "        a.append(float(pricepair[1].lstrip('$').replace(\",\",\"\")))\n",
    "        location = geolocator.geocode(\"{0}, Manhattan, NY\".format(pricepair[0]))\n",
    "        a.append(float(location.latitude))\n",
    "        a.append(float(location.longitude))\n",
    "        \n",
    "\n",
    "dfTitle = a[1:3]\n",
    "dfTitle.append('loc_lat')\n",
    "dfTitle.append('loc_lon')\n",
    "dfValue = a[3::]\n",
    "df = pd.DataFrame(np.array(dfValue).reshape(len(dfValue)// 4, 4), columns = dfTitle)\n",
    "df.head()"
   ]
  },
  {
   "cell_type": "code",
   "execution_count": 8,
   "metadata": {},
   "outputs": [
    {
     "data": {
      "text/plain": [
       "(51, 4)"
      ]
     },
     "execution_count": 8,
     "metadata": {},
     "output_type": "execute_result"
    }
   ],
   "source": [
    "df.shape"
   ]
  },
  {
   "cell_type": "markdown",
   "metadata": {},
   "source": [
    "    3) folium visualization "
   ]
  },
  {
   "cell_type": "code",
   "execution_count": 9,
   "metadata": {},
   "outputs": [
    {
     "name": "stdout",
     "output_type": "stream",
     "text": [
      "The coordinates of Manhattan, NY are (40.7900869, -73.9598295)\n"
     ]
    }
   ],
   "source": [
    "ny_location = geolocator.geocode(\"Manhattan, NY\")\n",
    "ny_lat = ny_location.latitude\n",
    "ny_lon = ny_location.longitude\n",
    "print('The coordinates of Manhattan, NY are ({}, {})'.format(ny_lat, ny_lon))"
   ]
  },
  {
   "cell_type": "code",
   "execution_count": 1,
   "metadata": {},
   "outputs": [
    {
     "ename": "NameError",
     "evalue": "name 'folium' is not defined",
     "output_type": "error",
     "traceback": [
      "\u001b[0;31m---------------------------------------------------------------------------\u001b[0m",
      "\u001b[0;31mNameError\u001b[0m                                 Traceback (most recent call last)",
      "\u001b[0;32m<ipython-input-1-71973edf69e4>\u001b[0m in \u001b[0;36m<module>\u001b[0;34m\u001b[0m\n\u001b[1;32m      1\u001b[0m \u001b[0;31m# create folium map\u001b[0m\u001b[0;34m\u001b[0m\u001b[0;34m\u001b[0m\u001b[0;34m\u001b[0m\u001b[0m\n\u001b[0;32m----> 2\u001b[0;31m \u001b[0mmanhattan_map\u001b[0m \u001b[0;34m=\u001b[0m \u001b[0mfolium\u001b[0m\u001b[0;34m.\u001b[0m\u001b[0mMap\u001b[0m\u001b[0;34m(\u001b[0m\u001b[0mlocation\u001b[0m \u001b[0;34m=\u001b[0m \u001b[0;34m[\u001b[0m\u001b[0mny_lat\u001b[0m\u001b[0;34m,\u001b[0m \u001b[0mny_lon\u001b[0m\u001b[0;34m]\u001b[0m\u001b[0;34m,\u001b[0m \u001b[0mzoom_start\u001b[0m \u001b[0;34m=\u001b[0m \u001b[0;36m11.48\u001b[0m\u001b[0;34m)\u001b[0m\u001b[0;34m\u001b[0m\u001b[0;34m\u001b[0m\u001b[0m\n\u001b[0m\u001b[1;32m      3\u001b[0m \u001b[0;34m\u001b[0m\u001b[0m\n\u001b[1;32m      4\u001b[0m \u001b[0;31m# plot average rental price at each district\u001b[0m\u001b[0;34m\u001b[0m\u001b[0;34m\u001b[0m\u001b[0;34m\u001b[0m\u001b[0m\n\u001b[1;32m      5\u001b[0m \u001b[0;32mfor\u001b[0m \u001b[0mlat\u001b[0m\u001b[0;34m,\u001b[0m \u001b[0mlon\u001b[0m\u001b[0;34m,\u001b[0m \u001b[0mneighborhood\u001b[0m\u001b[0;34m,\u001b[0m \u001b[0mprice\u001b[0m \u001b[0;32min\u001b[0m \u001b[0mzip\u001b[0m\u001b[0;34m(\u001b[0m\u001b[0mdf\u001b[0m\u001b[0;34m[\u001b[0m\u001b[0;34m'loc_lat'\u001b[0m\u001b[0;34m]\u001b[0m\u001b[0;34m,\u001b[0m \u001b[0mdf\u001b[0m\u001b[0;34m[\u001b[0m\u001b[0;34m'loc_lon'\u001b[0m\u001b[0;34m]\u001b[0m\u001b[0;34m,\u001b[0m \u001b[0mdf\u001b[0m\u001b[0;34m[\u001b[0m\u001b[0;34m'Neighborhood'\u001b[0m\u001b[0;34m]\u001b[0m\u001b[0;34m,\u001b[0m \u001b[0mdf\u001b[0m\u001b[0;34m[\u001b[0m\u001b[0;34m'Average Rent'\u001b[0m\u001b[0;34m]\u001b[0m\u001b[0;34m)\u001b[0m\u001b[0;34m:\u001b[0m\u001b[0;34m\u001b[0m\u001b[0;34m\u001b[0m\u001b[0m\n",
      "\u001b[0;31mNameError\u001b[0m: name 'folium' is not defined"
     ]
    }
   ],
   "source": [
    "# create folium map\n",
    "manhattan_map = folium.Map(location = [ny_lat, ny_lon], zoom_start = 11.48)\n",
    "\n",
    "# plot average rental price at each district\n",
    "for lat, lon, neighborhood, price in zip(df['loc_lat'], df['loc_lon'], df['Neighborhood'], df['Average Rent']):\n",
    "    label = '{}, ${}0'.format(neighborhood, price)\n",
    "    label = folium.Popup(label, parse_html = True)\n",
    "    folium.CircleMarker([float(lat), float(lon)],\n",
    "                        radius = 1, \n",
    "                        popup = label, \n",
    "                        color = 'red', \n",
    "                        #fill = True, \n",
    "                        fill_color = '#a72920', \n",
    "                        fill_opacity = 0.5, \n",
    "                        parse_html = False).add_to(manhattan_map)\n",
    " \n",
    "# add heat map \n",
    "df['heat_map_weights_col'] = (df['Average Rent'].astype(float) - df['Average Rent'].astype(float).min()) / (df['Average Rent'].astype(float).max() - df['Average Rent'].astype(float).min())\n",
    "df['double_lat'] = df['loc_lat'].astype(float)\n",
    "df['double_lon'] = df['loc_lon'].astype(float)\n",
    "cols_to_pull = ['double_lat', 'double_lon', 'heat_map_weights_col']\n",
    "\n",
    "PriceList = df[cols_to_pull].values.tolist()\n",
    "\n",
    "manhattan_map.add_child(plugins.HeatMap(PriceList, radius = 15))\n",
    "manhattan_map"
   ]
  },
  {
   "cell_type": "code",
   "execution_count": null,
   "metadata": {},
   "outputs": [],
   "source": []
  }
 ],
 "metadata": {
  "kernelspec": {
   "display_name": "Python 3",
   "language": "python",
   "name": "python3"
  },
  "language_info": {
   "codemirror_mode": {
    "name": "ipython",
    "version": 3
   },
   "file_extension": ".py",
   "mimetype": "text/x-python",
   "name": "python",
   "nbconvert_exporter": "python",
   "pygments_lexer": "ipython3",
   "version": "3.7.1"
  }
 },
 "nbformat": 4,
 "nbformat_minor": 2
}
